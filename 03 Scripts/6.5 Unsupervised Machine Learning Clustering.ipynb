{
 "cells": [
  {
   "cell_type": "markdown",
   "id": "bfea1abf",
   "metadata": {},
   "source": [
    "## Import libraries and data"
   ]
  },
  {
   "cell_type": "code",
   "execution_count": 1,
   "id": "cdae69a6",
   "metadata": {},
   "outputs": [],
   "source": [
    "# import libraries\n",
    "import pandas as pd\n",
    "import numpy as np\n",
    "import seaborn as sns\n",
    "import matplotlib\n",
    "import matplotlib.pyplot as plt\n",
    "import os\n",
    "import sklearn\n",
    "from sklearn.preprocessing import StandardScaler\n",
    "from sklearn.cluster import KMeans # Here is where you import the k-means algorithm from scikit-learn.\n",
    "import pylab as pl # PyLab is a convenience module that bulk imports matplotlib."
   ]
  },
  {
   "cell_type": "code",
   "execution_count": 2,
   "id": "000d89b0",
   "metadata": {},
   "outputs": [],
   "source": [
    "# This option ensures the graphs you create are displayed in your notebook without the need to \"call\" them specifically.\n",
    "\n",
    "%matplotlib inline"
   ]
  },
  {
   "cell_type": "code",
   "execution_count": 3,
   "id": "c08dff89",
   "metadata": {},
   "outputs": [],
   "source": [
    "# define path\n",
    "path = r'/Users/Cel/Documents/Data Analytics/6. Maine Fisheries Landings/10:23 Maine Fisheries Landings'"
   ]
  },
  {
   "cell_type": "code",
   "execution_count": 4,
   "id": "d7cbe93c",
   "metadata": {},
   "outputs": [],
   "source": [
    "lobster = pd.read_csv(os.path.join(path, '02 Data', 'Prepared Data', 'lobster_clean.csv'), index_col = False)"
   ]
  },
  {
   "cell_type": "code",
   "execution_count": 5,
   "id": "f3108f18",
   "metadata": {},
   "outputs": [
    {
     "data": {
      "text/html": [
       "<div>\n",
       "<style scoped>\n",
       "    .dataframe tbody tr th:only-of-type {\n",
       "        vertical-align: middle;\n",
       "    }\n",
       "\n",
       "    .dataframe tbody tr th {\n",
       "        vertical-align: top;\n",
       "    }\n",
       "\n",
       "    .dataframe thead th {\n",
       "        text-align: right;\n",
       "    }\n",
       "</style>\n",
       "<table border=\"1\" class=\"dataframe\">\n",
       "  <thead>\n",
       "    <tr style=\"text-align: right;\">\n",
       "      <th></th>\n",
       "      <th>Unnamed: 0.1</th>\n",
       "      <th>Unnamed: 0</th>\n",
       "      <th>year</th>\n",
       "      <th>species</th>\n",
       "      <th>port</th>\n",
       "      <th>county</th>\n",
       "      <th>weight_type</th>\n",
       "      <th>weight</th>\n",
       "      <th>value</th>\n",
       "      <th>number_harvesters</th>\n",
       "      <th>price_per_lb</th>\n",
       "    </tr>\n",
       "  </thead>\n",
       "  <tbody>\n",
       "    <tr>\n",
       "      <th>0</th>\n",
       "      <td>182</td>\n",
       "      <td>182</td>\n",
       "      <td>2008</td>\n",
       "      <td>Lobster American</td>\n",
       "      <td>Addison</td>\n",
       "      <td>Washington</td>\n",
       "      <td>Live Pounds</td>\n",
       "      <td>874072.35</td>\n",
       "      <td>2811848.728</td>\n",
       "      <td>80</td>\n",
       "      <td>3.216952</td>\n",
       "    </tr>\n",
       "    <tr>\n",
       "      <th>1</th>\n",
       "      <td>183</td>\n",
       "      <td>183</td>\n",
       "      <td>2008</td>\n",
       "      <td>Lobster American</td>\n",
       "      <td>Bailey Island</td>\n",
       "      <td>Cumberland</td>\n",
       "      <td>Live Pounds</td>\n",
       "      <td>1300961.05</td>\n",
       "      <td>4380685.491</td>\n",
       "      <td>100</td>\n",
       "      <td>3.367269</td>\n",
       "    </tr>\n",
       "    <tr>\n",
       "      <th>2</th>\n",
       "      <td>184</td>\n",
       "      <td>184</td>\n",
       "      <td>2008</td>\n",
       "      <td>Lobster American</td>\n",
       "      <td>Bar Harbor</td>\n",
       "      <td>Hancock</td>\n",
       "      <td>Live Pounds</td>\n",
       "      <td>749213.48</td>\n",
       "      <td>2761140.098</td>\n",
       "      <td>71</td>\n",
       "      <td>3.685385</td>\n",
       "    </tr>\n",
       "    <tr>\n",
       "      <th>3</th>\n",
       "      <td>185</td>\n",
       "      <td>185</td>\n",
       "      <td>2008</td>\n",
       "      <td>Lobster American</td>\n",
       "      <td>Bass Harbor</td>\n",
       "      <td>Hancock</td>\n",
       "      <td>Live Pounds</td>\n",
       "      <td>860515.00</td>\n",
       "      <td>3237508.820</td>\n",
       "      <td>89</td>\n",
       "      <td>3.762292</td>\n",
       "    </tr>\n",
       "    <tr>\n",
       "      <th>4</th>\n",
       "      <td>186</td>\n",
       "      <td>186</td>\n",
       "      <td>2008</td>\n",
       "      <td>Lobster American</td>\n",
       "      <td>Beals</td>\n",
       "      <td>Washington</td>\n",
       "      <td>Live Pounds</td>\n",
       "      <td>1463538.05</td>\n",
       "      <td>4777283.831</td>\n",
       "      <td>173</td>\n",
       "      <td>3.264202</td>\n",
       "    </tr>\n",
       "    <tr>\n",
       "      <th>5</th>\n",
       "      <td>187</td>\n",
       "      <td>187</td>\n",
       "      <td>2008</td>\n",
       "      <td>Lobster American</td>\n",
       "      <td>Birch Harbor</td>\n",
       "      <td>Hancock</td>\n",
       "      <td>Live Pounds</td>\n",
       "      <td>469693.50</td>\n",
       "      <td>1686542.550</td>\n",
       "      <td>20</td>\n",
       "      <td>3.590730</td>\n",
       "    </tr>\n",
       "    <tr>\n",
       "      <th>6</th>\n",
       "      <td>188</td>\n",
       "      <td>188</td>\n",
       "      <td>2008</td>\n",
       "      <td>Lobster American</td>\n",
       "      <td>Blue Hill</td>\n",
       "      <td>Hancock</td>\n",
       "      <td>Live Pounds</td>\n",
       "      <td>501952.97</td>\n",
       "      <td>1871689.247</td>\n",
       "      <td>58</td>\n",
       "      <td>3.728814</td>\n",
       "    </tr>\n",
       "    <tr>\n",
       "      <th>7</th>\n",
       "      <td>189</td>\n",
       "      <td>189</td>\n",
       "      <td>2008</td>\n",
       "      <td>Lobster American</td>\n",
       "      <td>Boothbay Harbor</td>\n",
       "      <td>Lincoln</td>\n",
       "      <td>Live Pounds</td>\n",
       "      <td>1167021.10</td>\n",
       "      <td>4076446.840</td>\n",
       "      <td>144</td>\n",
       "      <td>3.493036</td>\n",
       "    </tr>\n",
       "    <tr>\n",
       "      <th>8</th>\n",
       "      <td>190</td>\n",
       "      <td>190</td>\n",
       "      <td>2008</td>\n",
       "      <td>Lobster American</td>\n",
       "      <td>Bremen</td>\n",
       "      <td>Lincoln</td>\n",
       "      <td>Live Pounds</td>\n",
       "      <td>714036.20</td>\n",
       "      <td>2313529.645</td>\n",
       "      <td>67</td>\n",
       "      <td>3.240073</td>\n",
       "    </tr>\n",
       "    <tr>\n",
       "      <th>9</th>\n",
       "      <td>191</td>\n",
       "      <td>191</td>\n",
       "      <td>2008</td>\n",
       "      <td>Lobster American</td>\n",
       "      <td>Brooksville</td>\n",
       "      <td>Hancock</td>\n",
       "      <td>Live Pounds</td>\n",
       "      <td>16853.20</td>\n",
       "      <td>66952.768</td>\n",
       "      <td>9</td>\n",
       "      <td>3.972704</td>\n",
       "    </tr>\n",
       "  </tbody>\n",
       "</table>\n",
       "</div>"
      ],
      "text/plain": [
       "   Unnamed: 0.1  Unnamed: 0  year           species             port  \\\n",
       "0           182         182  2008  Lobster American          Addison   \n",
       "1           183         183  2008  Lobster American    Bailey Island   \n",
       "2           184         184  2008  Lobster American       Bar Harbor   \n",
       "3           185         185  2008  Lobster American      Bass Harbor   \n",
       "4           186         186  2008  Lobster American            Beals   \n",
       "5           187         187  2008  Lobster American     Birch Harbor   \n",
       "6           188         188  2008  Lobster American        Blue Hill   \n",
       "7           189         189  2008  Lobster American  Boothbay Harbor   \n",
       "8           190         190  2008  Lobster American           Bremen   \n",
       "9           191         191  2008  Lobster American      Brooksville   \n",
       "\n",
       "       county  weight_type      weight        value  number_harvesters  \\\n",
       "0  Washington  Live Pounds   874072.35  2811848.728                 80   \n",
       "1  Cumberland  Live Pounds  1300961.05  4380685.491                100   \n",
       "2     Hancock  Live Pounds   749213.48  2761140.098                 71   \n",
       "3     Hancock  Live Pounds   860515.00  3237508.820                 89   \n",
       "4  Washington  Live Pounds  1463538.05  4777283.831                173   \n",
       "5     Hancock  Live Pounds   469693.50  1686542.550                 20   \n",
       "6     Hancock  Live Pounds   501952.97  1871689.247                 58   \n",
       "7     Lincoln  Live Pounds  1167021.10  4076446.840                144   \n",
       "8     Lincoln  Live Pounds   714036.20  2313529.645                 67   \n",
       "9     Hancock  Live Pounds    16853.20    66952.768                  9   \n",
       "\n",
       "   price_per_lb  \n",
       "0      3.216952  \n",
       "1      3.367269  \n",
       "2      3.685385  \n",
       "3      3.762292  \n",
       "4      3.264202  \n",
       "5      3.590730  \n",
       "6      3.728814  \n",
       "7      3.493036  \n",
       "8      3.240073  \n",
       "9      3.972704  "
      ]
     },
     "execution_count": 5,
     "metadata": {},
     "output_type": "execute_result"
    }
   ],
   "source": [
    "lobster.head(10)"
   ]
  },
  {
   "cell_type": "code",
   "execution_count": 6,
   "id": "b4305fb9",
   "metadata": {},
   "outputs": [],
   "source": [
    "# remove qualitative ata\n",
    "lobster_quan = lobster.drop(columns = ['Unnamed: 0','Unnamed: 0.1','species','port','county','weight_type'])"
   ]
  },
  {
   "cell_type": "code",
   "execution_count": 7,
   "id": "97db6351",
   "metadata": {},
   "outputs": [
    {
     "data": {
      "text/html": [
       "<div>\n",
       "<style scoped>\n",
       "    .dataframe tbody tr th:only-of-type {\n",
       "        vertical-align: middle;\n",
       "    }\n",
       "\n",
       "    .dataframe tbody tr th {\n",
       "        vertical-align: top;\n",
       "    }\n",
       "\n",
       "    .dataframe thead th {\n",
       "        text-align: right;\n",
       "    }\n",
       "</style>\n",
       "<table border=\"1\" class=\"dataframe\">\n",
       "  <thead>\n",
       "    <tr style=\"text-align: right;\">\n",
       "      <th></th>\n",
       "      <th>year</th>\n",
       "      <th>weight</th>\n",
       "      <th>value</th>\n",
       "      <th>number_harvesters</th>\n",
       "      <th>price_per_lb</th>\n",
       "    </tr>\n",
       "  </thead>\n",
       "  <tbody>\n",
       "    <tr>\n",
       "      <th>0</th>\n",
       "      <td>2008</td>\n",
       "      <td>874072.35</td>\n",
       "      <td>2.811849e+06</td>\n",
       "      <td>80</td>\n",
       "      <td>3.216952</td>\n",
       "    </tr>\n",
       "    <tr>\n",
       "      <th>1</th>\n",
       "      <td>2008</td>\n",
       "      <td>1300961.05</td>\n",
       "      <td>4.380685e+06</td>\n",
       "      <td>100</td>\n",
       "      <td>3.367269</td>\n",
       "    </tr>\n",
       "    <tr>\n",
       "      <th>2</th>\n",
       "      <td>2008</td>\n",
       "      <td>749213.48</td>\n",
       "      <td>2.761140e+06</td>\n",
       "      <td>71</td>\n",
       "      <td>3.685385</td>\n",
       "    </tr>\n",
       "    <tr>\n",
       "      <th>3</th>\n",
       "      <td>2008</td>\n",
       "      <td>860515.00</td>\n",
       "      <td>3.237509e+06</td>\n",
       "      <td>89</td>\n",
       "      <td>3.762292</td>\n",
       "    </tr>\n",
       "    <tr>\n",
       "      <th>4</th>\n",
       "      <td>2008</td>\n",
       "      <td>1463538.05</td>\n",
       "      <td>4.777284e+06</td>\n",
       "      <td>173</td>\n",
       "      <td>3.264202</td>\n",
       "    </tr>\n",
       "    <tr>\n",
       "      <th>...</th>\n",
       "      <td>...</td>\n",
       "      <td>...</td>\n",
       "      <td>...</td>\n",
       "      <td>...</td>\n",
       "      <td>...</td>\n",
       "    </tr>\n",
       "    <tr>\n",
       "      <th>1109</th>\n",
       "      <td>2022</td>\n",
       "      <td>223031.45</td>\n",
       "      <td>9.568708e+05</td>\n",
       "      <td>17</td>\n",
       "      <td>4.290295</td>\n",
       "    </tr>\n",
       "    <tr>\n",
       "      <th>1110</th>\n",
       "      <td>2022</td>\n",
       "      <td>6960663.70</td>\n",
       "      <td>3.023618e+07</td>\n",
       "      <td>188</td>\n",
       "      <td>4.343864</td>\n",
       "    </tr>\n",
       "    <tr>\n",
       "      <th>1111</th>\n",
       "      <td>2022</td>\n",
       "      <td>24907.00</td>\n",
       "      <td>1.156994e+05</td>\n",
       "      <td>6</td>\n",
       "      <td>4.645256</td>\n",
       "    </tr>\n",
       "    <tr>\n",
       "      <th>1112</th>\n",
       "      <td>2022</td>\n",
       "      <td>1818154.05</td>\n",
       "      <td>6.541451e+06</td>\n",
       "      <td>57</td>\n",
       "      <td>3.597853</td>\n",
       "    </tr>\n",
       "    <tr>\n",
       "      <th>1113</th>\n",
       "      <td>2022</td>\n",
       "      <td>940215.45</td>\n",
       "      <td>4.266021e+06</td>\n",
       "      <td>25</td>\n",
       "      <td>4.537280</td>\n",
       "    </tr>\n",
       "  </tbody>\n",
       "</table>\n",
       "<p>1114 rows × 5 columns</p>\n",
       "</div>"
      ],
      "text/plain": [
       "      year      weight         value  number_harvesters  price_per_lb\n",
       "0     2008   874072.35  2.811849e+06                 80      3.216952\n",
       "1     2008  1300961.05  4.380685e+06                100      3.367269\n",
       "2     2008   749213.48  2.761140e+06                 71      3.685385\n",
       "3     2008   860515.00  3.237509e+06                 89      3.762292\n",
       "4     2008  1463538.05  4.777284e+06                173      3.264202\n",
       "...    ...         ...           ...                ...           ...\n",
       "1109  2022   223031.45  9.568708e+05                 17      4.290295\n",
       "1110  2022  6960663.70  3.023618e+07                188      4.343864\n",
       "1111  2022    24907.00  1.156994e+05                  6      4.645256\n",
       "1112  2022  1818154.05  6.541451e+06                 57      3.597853\n",
       "1113  2022   940215.45  4.266021e+06                 25      4.537280\n",
       "\n",
       "[1114 rows x 5 columns]"
      ]
     },
     "execution_count": 7,
     "metadata": {},
     "output_type": "execute_result"
    }
   ],
   "source": [
    "lobster_quan"
   ]
  },
  {
   "cell_type": "code",
   "execution_count": 8,
   "id": "ff14c159",
   "metadata": {},
   "outputs": [],
   "source": [
    "# standardize data\n",
    "scaler = StandardScaler()\n",
    "lobster_array = scaler.fit_transform(lobster_quan)"
   ]
  },
  {
   "cell_type": "code",
   "execution_count": 9,
   "id": "e604d464",
   "metadata": {},
   "outputs": [
    {
     "data": {
      "text/plain": [
       "array([[-1.6237917 , -0.24618248, -0.30778835,  0.14617377, -0.74092005],\n",
       "       [-1.6237917 , -0.06427743, -0.13579534,  0.37280923, -0.59501983],\n",
       "       [-1.6237917 , -0.29938712, -0.31334758,  0.04418781, -0.2862505 ],\n",
       "       ...,\n",
       "       [ 1.69791021, -0.6080273 , -0.60336967, -0.69237744,  0.64541796],\n",
       "       [ 1.69791021,  0.15610792,  0.10109141, -0.11445701, -0.37121037],\n",
       "       [ 1.69791021, -0.2179977 , -0.14836611, -0.47707375,  0.54061447]])"
      ]
     },
     "execution_count": 9,
     "metadata": {},
     "output_type": "execute_result"
    }
   ],
   "source": [
    "lobster_array"
   ]
  },
  {
   "cell_type": "code",
   "execution_count": 10,
   "id": "b806668b",
   "metadata": {},
   "outputs": [
    {
     "data": {
      "text/html": [
       "<div>\n",
       "<style scoped>\n",
       "    .dataframe tbody tr th:only-of-type {\n",
       "        vertical-align: middle;\n",
       "    }\n",
       "\n",
       "    .dataframe tbody tr th {\n",
       "        vertical-align: top;\n",
       "    }\n",
       "\n",
       "    .dataframe thead th {\n",
       "        text-align: right;\n",
       "    }\n",
       "</style>\n",
       "<table border=\"1\" class=\"dataframe\">\n",
       "  <thead>\n",
       "    <tr style=\"text-align: right;\">\n",
       "      <th></th>\n",
       "      <th>year</th>\n",
       "      <th>weight</th>\n",
       "      <th>value</th>\n",
       "      <th>number_harvesters</th>\n",
       "      <th>price_per_lb</th>\n",
       "    </tr>\n",
       "  </thead>\n",
       "  <tbody>\n",
       "    <tr>\n",
       "      <th>0</th>\n",
       "      <td>-1.623792</td>\n",
       "      <td>-0.246182</td>\n",
       "      <td>-0.307788</td>\n",
       "      <td>0.146174</td>\n",
       "      <td>-0.740920</td>\n",
       "    </tr>\n",
       "    <tr>\n",
       "      <th>1</th>\n",
       "      <td>-1.623792</td>\n",
       "      <td>-0.064277</td>\n",
       "      <td>-0.135795</td>\n",
       "      <td>0.372809</td>\n",
       "      <td>-0.595020</td>\n",
       "    </tr>\n",
       "    <tr>\n",
       "      <th>2</th>\n",
       "      <td>-1.623792</td>\n",
       "      <td>-0.299387</td>\n",
       "      <td>-0.313348</td>\n",
       "      <td>0.044188</td>\n",
       "      <td>-0.286250</td>\n",
       "    </tr>\n",
       "    <tr>\n",
       "      <th>3</th>\n",
       "      <td>-1.623792</td>\n",
       "      <td>-0.251960</td>\n",
       "      <td>-0.261123</td>\n",
       "      <td>0.248160</td>\n",
       "      <td>-0.211603</td>\n",
       "    </tr>\n",
       "    <tr>\n",
       "      <th>4</th>\n",
       "      <td>-1.623792</td>\n",
       "      <td>0.005000</td>\n",
       "      <td>-0.092316</td>\n",
       "      <td>1.200029</td>\n",
       "      <td>-0.695058</td>\n",
       "    </tr>\n",
       "  </tbody>\n",
       "</table>\n",
       "</div>"
      ],
      "text/plain": [
       "       year    weight     value  number_harvesters  price_per_lb\n",
       "0 -1.623792 -0.246182 -0.307788           0.146174     -0.740920\n",
       "1 -1.623792 -0.064277 -0.135795           0.372809     -0.595020\n",
       "2 -1.623792 -0.299387 -0.313348           0.044188     -0.286250\n",
       "3 -1.623792 -0.251960 -0.261123           0.248160     -0.211603\n",
       "4 -1.623792  0.005000 -0.092316           1.200029     -0.695058"
      ]
     },
     "execution_count": 10,
     "metadata": {},
     "output_type": "execute_result"
    }
   ],
   "source": [
    "columns = ['year', 'weight', 'value', 'number_harvesters', 'price_per_lb']\n",
    "lobster_scaled = pd.DataFrame(data = lobster_array,\n",
    "                  columns = columns)\n",
    "lobster_scaled.head()"
   ]
  },
  {
   "cell_type": "markdown",
   "id": "44040a68",
   "metadata": {},
   "source": [
    "## Elbow technique"
   ]
  },
  {
   "cell_type": "code",
   "execution_count": 11,
   "id": "e59dbad0",
   "metadata": {},
   "outputs": [],
   "source": [
    "num_cl = range(1, 10) # Defines the range of potential clusters in the data.\n",
    "kmeans = [KMeans(n_clusters=i) for i in num_cl] # Defines k-means clusters in the range assigned above."
   ]
  },
  {
   "cell_type": "code",
   "execution_count": 12,
   "id": "2fa78af9",
   "metadata": {},
   "outputs": [
    {
     "name": "stderr",
     "output_type": "stream",
     "text": [
      "/Users/Cel/anaconda3/lib/python3.11/site-packages/sklearn/cluster/_kmeans.py:1412: FutureWarning: The default value of `n_init` will change from 10 to 'auto' in 1.4. Set the value of `n_init` explicitly to suppress the warning\n",
      "  super()._check_params_vs_input(X, default_n_init=10)\n",
      "/Users/Cel/anaconda3/lib/python3.11/site-packages/sklearn/cluster/_kmeans.py:1412: FutureWarning: The default value of `n_init` will change from 10 to 'auto' in 1.4. Set the value of `n_init` explicitly to suppress the warning\n",
      "  super()._check_params_vs_input(X, default_n_init=10)\n",
      "/Users/Cel/anaconda3/lib/python3.11/site-packages/sklearn/cluster/_kmeans.py:1412: FutureWarning: The default value of `n_init` will change from 10 to 'auto' in 1.4. Set the value of `n_init` explicitly to suppress the warning\n",
      "  super()._check_params_vs_input(X, default_n_init=10)\n",
      "/Users/Cel/anaconda3/lib/python3.11/site-packages/sklearn/cluster/_kmeans.py:1412: FutureWarning: The default value of `n_init` will change from 10 to 'auto' in 1.4. Set the value of `n_init` explicitly to suppress the warning\n",
      "  super()._check_params_vs_input(X, default_n_init=10)\n",
      "/Users/Cel/anaconda3/lib/python3.11/site-packages/sklearn/cluster/_kmeans.py:1412: FutureWarning: The default value of `n_init` will change from 10 to 'auto' in 1.4. Set the value of `n_init` explicitly to suppress the warning\n",
      "  super()._check_params_vs_input(X, default_n_init=10)\n",
      "/Users/Cel/anaconda3/lib/python3.11/site-packages/sklearn/cluster/_kmeans.py:1412: FutureWarning: The default value of `n_init` will change from 10 to 'auto' in 1.4. Set the value of `n_init` explicitly to suppress the warning\n",
      "  super()._check_params_vs_input(X, default_n_init=10)\n",
      "/Users/Cel/anaconda3/lib/python3.11/site-packages/sklearn/cluster/_kmeans.py:1412: FutureWarning: The default value of `n_init` will change from 10 to 'auto' in 1.4. Set the value of `n_init` explicitly to suppress the warning\n",
      "  super()._check_params_vs_input(X, default_n_init=10)\n",
      "/Users/Cel/anaconda3/lib/python3.11/site-packages/sklearn/cluster/_kmeans.py:1412: FutureWarning: The default value of `n_init` will change from 10 to 'auto' in 1.4. Set the value of `n_init` explicitly to suppress the warning\n",
      "  super()._check_params_vs_input(X, default_n_init=10)\n",
      "/Users/Cel/anaconda3/lib/python3.11/site-packages/sklearn/cluster/_kmeans.py:1412: FutureWarning: The default value of `n_init` will change from 10 to 'auto' in 1.4. Set the value of `n_init` explicitly to suppress the warning\n",
      "  super()._check_params_vs_input(X, default_n_init=10)\n"
     ]
    },
    {
     "data": {
      "text/plain": [
       "[-9.882220767342058e+16,\n",
       " -3.071043887790315e+16,\n",
       " -1.49698279138739e+16,\n",
       " -9107883162399412.0,\n",
       " -6273224479207472.0,\n",
       " -4348782605225588.0,\n",
       " -3238635472747871.0,\n",
       " -2598979306704783.5,\n",
       " -2057993513079106.2]"
      ]
     },
     "execution_count": 12,
     "metadata": {},
     "output_type": "execute_result"
    }
   ],
   "source": [
    "score = [kmeans[i].fit(lobster_quan).score(lobster_quan) for i in range(len(kmeans))] # Creates a score that represents \n",
    "# a rate of variation for the given cluster option.\n",
    "\n",
    "score"
   ]
  },
  {
   "cell_type": "code",
   "execution_count": 13,
   "id": "b4395515",
   "metadata": {},
   "outputs": [
    {
     "data": {
      "image/png": "[encoded data removed]",
      "text/plain": [
       "<Figure size 640x480 with 1 Axes>"
      ]
     },
     "metadata": {},
     "output_type": "display_data"
    }
   ],
   "source": [
    "# Plot the elbow curve using PyLab.\n",
    "\n",
    "pl.plot(num_cl,score)\n",
    "pl.xlabel('Number of Clusters')\n",
    "pl.ylabel('Score')\n",
    "pl.title('Elbow Curve')\n",
    "pl.show()"
   ]
  },
  {
   "cell_type": "markdown",
   "id": "8ad319ee",
   "metadata": {},
   "source": [
    "Optimal amount of clusters is 3."
   ]
  },
  {
   "cell_type": "markdown",
   "id": "91e91696",
   "metadata": {},
   "source": [
    "## k-means clustering"
   ]
  },
  {
   "cell_type": "code",
   "execution_count": 14,
   "id": "205f40d0",
   "metadata": {},
   "outputs": [],
   "source": [
    "# Create the k-means object.\n",
    "\n",
    "kmeans = KMeans(n_clusters = 3) "
   ]
  },
  {
   "cell_type": "code",
   "execution_count": 15,
   "id": "47b527d2",
   "metadata": {},
   "outputs": [
    {
     "name": "stderr",
     "output_type": "stream",
     "text": [
      "/Users/Cel/anaconda3/lib/python3.11/site-packages/sklearn/cluster/_kmeans.py:1412: FutureWarning: The default value of `n_init` will change from 10 to 'auto' in 1.4. Set the value of `n_init` explicitly to suppress the warning\n",
      "  super()._check_params_vs_input(X, default_n_init=10)\n"
     ]
    },
    {
     "data": {
      "text/html": [
       "<style>#sk-container-id-1 {color: black;}#sk-container-id-1 pre{padding: 0;}#sk-container-id-1 div.sk-toggleable {background-color: white;}#sk-container-id-1 label.sk-toggleable__label {cursor: pointer;display: block;width: 100%;margin-bottom: 0;padding: 0.3em;box-sizing: border-box;text-align: center;}#sk-container-id-1 label.sk-toggleable__label-arrow:before {content: \"▸\";float: left;margin-right: 0.25em;color: #696969;}#sk-container-id-1 label.sk-toggleable__label-arrow:hover:before {color: black;}#sk-container-id-1 div.sk-estimator:hover label.sk-toggleable__label-arrow:before {color: black;}#sk-container-id-1 div.sk-toggleable__content {max-height: 0;max-width: 0;overflow: hidden;text-align: left;background-color: #f0f8ff;}#sk-container-id-1 div.sk-toggleable__content pre {margin: 0.2em;color: black;border-radius: 0.25em;background-color: #f0f8ff;}#sk-container-id-1 input.sk-toggleable__control:checked~div.sk-toggleable__content {max-height: 200px;max-width: 100%;overflow: auto;}#sk-container-id-1 input.sk-toggleable__control:checked~label.sk-toggleable__label-arrow:before {content: \"▾\";}#sk-container-id-1 div.sk-estimator input.sk-toggleable__control:checked~label.sk-toggleable__label {background-color: #d4ebff;}#sk-container-id-1 div.sk-label input.sk-toggleable__control:checked~label.sk-toggleable__label {background-color: #d4ebff;}#sk-container-id-1 input.sk-hidden--visually {border: 0;clip: rect(1px 1px 1px 1px);clip: rect(1px, 1px, 1px, 1px);height: 1px;margin: -1px;overflow: hidden;padding: 0;position: absolute;width: 1px;}#sk-container-id-1 div.sk-estimator {font-family: monospace;background-color: #f0f8ff;border: 1px dotted black;border-radius: 0.25em;box-sizing: border-box;margin-bottom: 0.5em;}#sk-container-id-1 div.sk-estimator:hover {background-color: #d4ebff;}#sk-container-id-1 div.sk-parallel-item::after {content: \"\";width: 100%;border-bottom: 1px solid gray;flex-grow: 1;}#sk-container-id-1 div.sk-label:hover label.sk-toggleable__label {background-color: #d4ebff;}#sk-container-id-1 div.sk-serial::before {content: \"\";position: absolute;border-left: 1px solid gray;box-sizing: border-box;top: 0;bottom: 0;left: 50%;z-index: 0;}#sk-container-id-1 div.sk-serial {display: flex;flex-direction: column;align-items: center;background-color: white;padding-right: 0.2em;padding-left: 0.2em;position: relative;}#sk-container-id-1 div.sk-item {position: relative;z-index: 1;}#sk-container-id-1 div.sk-parallel {display: flex;align-items: stretch;justify-content: center;background-color: white;position: relative;}#sk-container-id-1 div.sk-item::before, #sk-container-id-1 div.sk-parallel-item::before {content: \"\";position: absolute;border-left: 1px solid gray;box-sizing: border-box;top: 0;bottom: 0;left: 50%;z-index: -1;}#sk-container-id-1 div.sk-parallel-item {display: flex;flex-direction: column;z-index: 1;position: relative;background-color: white;}#sk-container-id-1 div.sk-parallel-item:first-child::after {align-self: flex-end;width: 50%;}#sk-container-id-1 div.sk-parallel-item:last-child::after {align-self: flex-start;width: 50%;}#sk-container-id-1 div.sk-parallel-item:only-child::after {width: 0;}#sk-container-id-1 div.sk-dashed-wrapped {border: 1px dashed gray;margin: 0 0.4em 0.5em 0.4em;box-sizing: border-box;padding-bottom: 0.4em;background-color: white;}#sk-container-id-1 div.sk-label label {font-family: monospace;font-weight: bold;display: inline-block;line-height: 1.2em;}#sk-container-id-1 div.sk-label-container {text-align: center;}#sk-container-id-1 div.sk-container {/* jupyter's `normalize.less` sets `[hidden] { display: none; }` but bootstrap.min.css set `[hidden] { display: none !important; }` so we also need the `!important` here to be able to override the default hidden behavior on the sphinx rendered scikit-learn.org. See: https://github.com/scikit-learn/scikit-learn/issues/21755 */display: inline-block !important;position: relative;}#sk-container-id-1 div.sk-text-repr-fallback {display: none;}</style><div id=\"sk-container-id-1\" class=\"sk-top-container\"><div class=\"sk-text-repr-fallback\"><pre>KMeans(n_clusters=3)</pre><b>In a Jupyter environment, please rerun this cell to show the HTML representation or trust the notebook. <br />On GitHub, the HTML representation is unable to render, please try loading this page with nbviewer.org.</b></div><div class=\"sk-container\" hidden><div class=\"sk-item\"><div class=\"sk-estimator sk-toggleable\"><input class=\"sk-toggleable__control sk-hidden--visually\" id=\"sk-estimator-id-1\" type=\"checkbox\" checked><label for=\"sk-estimator-id-1\" class=\"sk-toggleable__label sk-toggleable__label-arrow\">KMeans</label><div class=\"sk-toggleable__content\"><pre>KMeans(n_clusters=3)</pre></div></div></div></div></div>"
      ],
      "text/plain": [
       "KMeans(n_clusters=3)"
      ]
     },
     "execution_count": 15,
     "metadata": {},
     "output_type": "execute_result"
    }
   ],
   "source": [
    "# Fit the k-means object to the data.\n",
    "\n",
    "kmeans.fit(lobster_scaled)"
   ]
  },
  {
   "cell_type": "code",
   "execution_count": 16,
   "id": "dbf5226b",
   "metadata": {},
   "outputs": [
    {
     "name": "stderr",
     "output_type": "stream",
     "text": [
      "/Users/Cel/anaconda3/lib/python3.11/site-packages/sklearn/cluster/_kmeans.py:1412: FutureWarning: The default value of `n_init` will change from 10 to 'auto' in 1.4. Set the value of `n_init` explicitly to suppress the warning\n",
      "  super()._check_params_vs_input(X, default_n_init=10)\n"
     ]
    }
   ],
   "source": [
    "# create 'clusters' column in scaled df\n",
    "lobster_scaled['clusters'] = kmeans.fit_predict(lobster_scaled)"
   ]
  },
  {
   "cell_type": "code",
   "execution_count": 28,
   "id": "a0b9d420",
   "metadata": {},
   "outputs": [],
   "source": [
    "# add 'clusters' column to original df\n",
    "lobster_quan['clusters'] = lobster_scaled['clusters']"
   ]
  },
  {
   "cell_type": "code",
   "execution_count": 17,
   "id": "c6ecc4e6",
   "metadata": {},
   "outputs": [
    {
     "data": {
      "text/html": [
       "<div>\n",
       "<style scoped>\n",
       "    .dataframe tbody tr th:only-of-type {\n",
       "        vertical-align: middle;\n",
       "    }\n",
       "\n",
       "    .dataframe tbody tr th {\n",
       "        vertical-align: top;\n",
       "    }\n",
       "\n",
       "    .dataframe thead th {\n",
       "        text-align: right;\n",
       "    }\n",
       "</style>\n",
       "<table border=\"1\" class=\"dataframe\">\n",
       "  <thead>\n",
       "    <tr style=\"text-align: right;\">\n",
       "      <th></th>\n",
       "      <th>year</th>\n",
       "      <th>weight</th>\n",
       "      <th>value</th>\n",
       "      <th>number_harvesters</th>\n",
       "      <th>price_per_lb</th>\n",
       "      <th>clusters</th>\n",
       "    </tr>\n",
       "  </thead>\n",
       "  <tbody>\n",
       "    <tr>\n",
       "      <th>0</th>\n",
       "      <td>-1.623792</td>\n",
       "      <td>-0.246182</td>\n",
       "      <td>-0.307788</td>\n",
       "      <td>0.146174</td>\n",
       "      <td>-0.740920</td>\n",
       "      <td>0</td>\n",
       "    </tr>\n",
       "    <tr>\n",
       "      <th>1</th>\n",
       "      <td>-1.623792</td>\n",
       "      <td>-0.064277</td>\n",
       "      <td>-0.135795</td>\n",
       "      <td>0.372809</td>\n",
       "      <td>-0.595020</td>\n",
       "      <td>0</td>\n",
       "    </tr>\n",
       "    <tr>\n",
       "      <th>2</th>\n",
       "      <td>-1.623792</td>\n",
       "      <td>-0.299387</td>\n",
       "      <td>-0.313348</td>\n",
       "      <td>0.044188</td>\n",
       "      <td>-0.286250</td>\n",
       "      <td>0</td>\n",
       "    </tr>\n",
       "    <tr>\n",
       "      <th>3</th>\n",
       "      <td>-1.623792</td>\n",
       "      <td>-0.251960</td>\n",
       "      <td>-0.261123</td>\n",
       "      <td>0.248160</td>\n",
       "      <td>-0.211603</td>\n",
       "      <td>0</td>\n",
       "    </tr>\n",
       "    <tr>\n",
       "      <th>4</th>\n",
       "      <td>-1.623792</td>\n",
       "      <td>0.005000</td>\n",
       "      <td>-0.092316</td>\n",
       "      <td>1.200029</td>\n",
       "      <td>-0.695058</td>\n",
       "      <td>0</td>\n",
       "    </tr>\n",
       "  </tbody>\n",
       "</table>\n",
       "</div>"
      ],
      "text/plain": [
       "       year    weight     value  number_harvesters  price_per_lb  clusters\n",
       "0 -1.623792 -0.246182 -0.307788           0.146174     -0.740920         0\n",
       "1 -1.623792 -0.064277 -0.135795           0.372809     -0.595020         0\n",
       "2 -1.623792 -0.299387 -0.313348           0.044188     -0.286250         0\n",
       "3 -1.623792 -0.251960 -0.261123           0.248160     -0.211603         0\n",
       "4 -1.623792  0.005000 -0.092316           1.200029     -0.695058         0"
      ]
     },
     "execution_count": 17,
     "metadata": {},
     "output_type": "execute_result"
    }
   ],
   "source": [
    "lobster_scaled.head()"
   ]
  },
  {
   "cell_type": "code",
   "execution_count": 29,
   "id": "0e6a9460",
   "metadata": {},
   "outputs": [
    {
     "data": {
      "text/html": [
       "<div>\n",
       "<style scoped>\n",
       "    .dataframe tbody tr th:only-of-type {\n",
       "        vertical-align: middle;\n",
       "    }\n",
       "\n",
       "    .dataframe tbody tr th {\n",
       "        vertical-align: top;\n",
       "    }\n",
       "\n",
       "    .dataframe thead th {\n",
       "        text-align: right;\n",
       "    }\n",
       "</style>\n",
       "<table border=\"1\" class=\"dataframe\">\n",
       "  <thead>\n",
       "    <tr style=\"text-align: right;\">\n",
       "      <th></th>\n",
       "      <th>year</th>\n",
       "      <th>weight</th>\n",
       "      <th>value</th>\n",
       "      <th>number_harvesters</th>\n",
       "      <th>price_per_lb</th>\n",
       "      <th>clusters</th>\n",
       "    </tr>\n",
       "  </thead>\n",
       "  <tbody>\n",
       "    <tr>\n",
       "      <th>0</th>\n",
       "      <td>2008</td>\n",
       "      <td>874072.35</td>\n",
       "      <td>2811848.728</td>\n",
       "      <td>80</td>\n",
       "      <td>3.216952</td>\n",
       "      <td>0</td>\n",
       "    </tr>\n",
       "    <tr>\n",
       "      <th>1</th>\n",
       "      <td>2008</td>\n",
       "      <td>1300961.05</td>\n",
       "      <td>4380685.491</td>\n",
       "      <td>100</td>\n",
       "      <td>3.367269</td>\n",
       "      <td>0</td>\n",
       "    </tr>\n",
       "    <tr>\n",
       "      <th>2</th>\n",
       "      <td>2008</td>\n",
       "      <td>749213.48</td>\n",
       "      <td>2761140.098</td>\n",
       "      <td>71</td>\n",
       "      <td>3.685385</td>\n",
       "      <td>0</td>\n",
       "    </tr>\n",
       "    <tr>\n",
       "      <th>3</th>\n",
       "      <td>2008</td>\n",
       "      <td>860515.00</td>\n",
       "      <td>3237508.820</td>\n",
       "      <td>89</td>\n",
       "      <td>3.762292</td>\n",
       "      <td>0</td>\n",
       "    </tr>\n",
       "    <tr>\n",
       "      <th>4</th>\n",
       "      <td>2008</td>\n",
       "      <td>1463538.05</td>\n",
       "      <td>4777283.831</td>\n",
       "      <td>173</td>\n",
       "      <td>3.264202</td>\n",
       "      <td>0</td>\n",
       "    </tr>\n",
       "  </tbody>\n",
       "</table>\n",
       "</div>"
      ],
      "text/plain": [
       "   year      weight        value  number_harvesters  price_per_lb  clusters\n",
       "0  2008   874072.35  2811848.728                 80      3.216952         0\n",
       "1  2008  1300961.05  4380685.491                100      3.367269         0\n",
       "2  2008   749213.48  2761140.098                 71      3.685385         0\n",
       "3  2008   860515.00  3237508.820                 89      3.762292         0\n",
       "4  2008  1463538.05  4777283.831                173      3.264202         0"
      ]
     },
     "execution_count": 29,
     "metadata": {},
     "output_type": "execute_result"
    }
   ],
   "source": [
    "lobster_quan.head()"
   ]
  },
  {
   "cell_type": "code",
   "execution_count": 18,
   "id": "4ac1ff10",
   "metadata": {},
   "outputs": [
    {
     "data": {
      "text/plain": [
       "clusters\n",
       "0    544\n",
       "2    520\n",
       "1     50\n",
       "Name: count, dtype: int64"
      ]
     },
     "execution_count": 18,
     "metadata": {},
     "output_type": "execute_result"
    }
   ],
   "source": [
    "lobster_scaled['clusters'].value_counts()"
   ]
  },
  {
   "cell_type": "code",
   "execution_count": 21,
   "id": "4fa07781",
   "metadata": {},
   "outputs": [
    {
     "data": {
      "image/png": "[encoded data removed]",
      "text/plain": [
       "<Figure size 1200x800 with 1 Axes>"
      ]
     },
     "metadata": {},
     "output_type": "display_data"
    }
   ],
   "source": [
    "# SCALED - Plot the clusters for the \"weight\" and \"price per lb\" variables.\n",
    "\n",
    "plt.figure(figsize=(12,8))\n",
    "ax = sns.scatterplot(x=lobster_scaled['weight'], y=lobster_scaled['price_per_lb'], hue=kmeans.labels_, s=100) \n",
    "# Here, you're subsetting `X` for the x and y arguments to avoid using their labels. \n",
    "# `hue` takes the value of the attribute `kmeans.labels_`, which is the result of running the k-means algorithm.\n",
    "# `s` represents the size of the points you want to see in the plot.\n",
    "\n",
    "ax.grid(False) # This removes the grid from the background.\n",
    "plt.xlabel('Total lbs harvested') # Label x-axis.\n",
    "plt.ylabel('Price per lb') # Label y-axis.\n",
    "plt.show()"
   ]
  },
  {
   "cell_type": "markdown",
   "id": "93aad1d2",
   "metadata": {},
   "source": [
    "The clusters seem to make the most sense in the third plot (total lbs harvested vs total value). The pink cluster represents the majority of catches, which are relatively low in weight and in value. The next two clusters increase in value and weight (the third being the highest in value and weight, but least numerous). The first graph plotting weight vs price per pound tells us that the amount of lobster harvested doesn't really affect the value - which goes against our original hypothesis. "
   ]
  },
  {
   "cell_type": "code",
   "execution_count": 24,
   "id": "0e5c1827",
   "metadata": {},
   "outputs": [],
   "source": [
    "# new column to categorize clusters by color\n",
    "lobster_scaled.loc[lobster_scaled['clusters'] == 2, 'cluster'] = 'dark purple'\n",
    "lobster_scaled.loc[lobster_scaled['clusters'] == 1, 'cluster'] = 'purple'\n",
    "lobster_scaled.loc[lobster_scaled['clusters'] == 0, 'cluster'] = 'pink'"
   ]
  },
  {
   "cell_type": "code",
   "execution_count": 25,
   "id": "086cf3da",
   "metadata": {},
   "outputs": [
    {
     "data": {
      "text/html": [
       "<div>\n",
       "<style scoped>\n",
       "    .dataframe tbody tr th:only-of-type {\n",
       "        vertical-align: middle;\n",
       "    }\n",
       "\n",
       "    .dataframe tbody tr th {\n",
       "        vertical-align: top;\n",
       "    }\n",
       "\n",
       "    .dataframe thead tr th {\n",
       "        text-align: left;\n",
       "    }\n",
       "\n",
       "    .dataframe thead tr:last-of-type th {\n",
       "        text-align: right;\n",
       "    }\n",
       "</style>\n",
       "<table border=\"1\" class=\"dataframe\">\n",
       "  <thead>\n",
       "    <tr>\n",
       "      <th></th>\n",
       "      <th colspan=\"3\" halign=\"left\">year</th>\n",
       "      <th colspan=\"2\" halign=\"left\">weight</th>\n",
       "      <th colspan=\"2\" halign=\"left\">value</th>\n",
       "      <th colspan=\"2\" halign=\"left\">number_harvesters</th>\n",
       "      <th colspan=\"2\" halign=\"left\">price_per_lb</th>\n",
       "    </tr>\n",
       "    <tr>\n",
       "      <th></th>\n",
       "      <th>count</th>\n",
       "      <th>mean</th>\n",
       "      <th>median</th>\n",
       "      <th>mean</th>\n",
       "      <th>median</th>\n",
       "      <th>mean</th>\n",
       "      <th>median</th>\n",
       "      <th>mean</th>\n",
       "      <th>median</th>\n",
       "      <th>mean</th>\n",
       "      <th>median</th>\n",
       "    </tr>\n",
       "    <tr>\n",
       "      <th>cluster</th>\n",
       "      <th></th>\n",
       "      <th></th>\n",
       "      <th></th>\n",
       "      <th></th>\n",
       "      <th></th>\n",
       "      <th></th>\n",
       "      <th></th>\n",
       "      <th></th>\n",
       "      <th></th>\n",
       "      <th></th>\n",
       "      <th></th>\n",
       "    </tr>\n",
       "  </thead>\n",
       "  <tbody>\n",
       "    <tr>\n",
       "      <th>dark purple</th>\n",
       "      <td>520</td>\n",
       "      <td>0.857447</td>\n",
       "      <td>0.748853</td>\n",
       "      <td>-0.161730</td>\n",
       "      <td>-0.327827</td>\n",
       "      <td>-0.079994</td>\n",
       "      <td>-0.261913</td>\n",
       "      <td>-0.193126</td>\n",
       "      <td>-0.329761</td>\n",
       "      <td>0.689178</td>\n",
       "      <td>0.422398</td>\n",
       "    </tr>\n",
       "    <tr>\n",
       "      <th>pink</th>\n",
       "      <td>544</td>\n",
       "      <td>-0.840470</td>\n",
       "      <td>-0.911998</td>\n",
       "      <td>-0.195338</td>\n",
       "      <td>-0.397762</td>\n",
       "      <td>-0.268804</td>\n",
       "      <td>-0.430613</td>\n",
       "      <td>-0.135704</td>\n",
       "      <td>-0.363756</td>\n",
       "      <td>-0.654294</td>\n",
       "      <td>-0.659379</td>\n",
       "    </tr>\n",
       "    <tr>\n",
       "      <th>purple</th>\n",
       "      <td>50</td>\n",
       "      <td>0.226871</td>\n",
       "      <td>0.274324</td>\n",
       "      <td>3.807272</td>\n",
       "      <td>3.681128</td>\n",
       "      <td>3.756524</td>\n",
       "      <td>3.684848</td>\n",
       "      <td>3.484967</td>\n",
       "      <td>3.517376</td>\n",
       "      <td>-0.048730</td>\n",
       "      <td>-0.309883</td>\n",
       "    </tr>\n",
       "  </tbody>\n",
       "</table>\n",
       "</div>"
      ],
      "text/plain": [
       "             year                        weight               value            \\\n",
       "            count      mean    median      mean    median      mean    median   \n",
       "cluster                                                                         \n",
       "dark purple   520  0.857447  0.748853 -0.161730 -0.327827 -0.079994 -0.261913   \n",
       "pink          544 -0.840470 -0.911998 -0.195338 -0.397762 -0.268804 -0.430613   \n",
       "purple         50  0.226871  0.274324  3.807272  3.681128  3.756524  3.684848   \n",
       "\n",
       "            number_harvesters           price_per_lb            \n",
       "                         mean    median         mean    median  \n",
       "cluster                                                         \n",
       "dark purple         -0.193126 -0.329761     0.689178  0.422398  \n",
       "pink                -0.135704 -0.363756    -0.654294 -0.659379  \n",
       "purple               3.484967  3.517376    -0.048730 -0.309883  "
      ]
     },
     "execution_count": 25,
     "metadata": {},
     "output_type": "execute_result"
    }
   ],
   "source": [
    "# summary statistics by cluster\n",
    "lobster_scaled.groupby('cluster').agg({'year':['count','mean', 'median'], \n",
    "                    'weight':['mean', 'median'], \n",
    "                    'value':['mean', 'median'],\n",
    "                    'number_harvesters':['mean', 'median'],\n",
    "                    'price_per_lb': ['mean', 'median']})"
   ]
  },
  {
   "cell_type": "markdown",
   "id": "abe4f7c8",
   "metadata": {},
   "source": [
    "The original hypothesis was that price per pound would decrease as the total weight harvested increases. The regression analysis from the previous exercise suggested that the negative linear relationship was quite weak. However, the cluster analysis revealed 3 groups with different mean price per pounds. "
   ]
  },
  {
   "cell_type": "code",
   "execution_count": 30,
   "id": "cf7d75d9",
   "metadata": {},
   "outputs": [],
   "source": [
    "# exporting scaled data\n",
    "lobster_scaled.to_csv(r'/Users/Cel/Documents/Data Analytics/6. Maine Fisheries Landings/10:23 Maine Fisheries Landings/02 Data/Prepared Data/lobster_scaled_cluster.csv')"
   ]
  },
  {
   "cell_type": "code",
   "execution_count": 31,
   "id": "152d1667",
   "metadata": {},
   "outputs": [],
   "source": [
    "# exporting original data with cluster column\n",
    "lobster_quan.to_csv(r'/Users/Cel/Documents/Data Analytics/6. Maine Fisheries Landings/10:23 Maine Fisheries Landings/02 Data/Prepared Data/lobster_cluster.csv')"
   ]
  },
  {
   "cell_type": "code",
   "execution_count": null,
   "id": "dad02794",
   "metadata": {},
   "outputs": [],
   "source": []
  }
 ],
 "metadata": {
  "kernelspec": {
   "display_name": "Python 3 (ipykernel)",
   "language": "python",
   "name": "python3"
  },
  "language_info": {
   "codemirror_mode": {
    "name": "ipython",
    "version": 3
   },
   "file_extension": ".py",
   "mimetype": "text/x-python",
   "name": "python",
   "nbconvert_exporter": "python",
   "pygments_lexer": "ipython3",
   "version": "3.11.4"
  }
 },
 "nbformat": 4,
 "nbformat_minor": 5
}
