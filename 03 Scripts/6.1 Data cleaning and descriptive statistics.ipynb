{
 "cells": [
  {
   "cell_type": "markdown",
   "id": "6f051750",
   "metadata": {},
   "source": [
    "## Environment Setup"
   ]
  },
  {
   "cell_type": "code",
   "execution_count": 1,
   "id": "7752ea83",
   "metadata": {},
   "outputs": [],
   "source": [
    "# import libraries\n",
    "import pandas as pd\n",
    "import numpy as np\n",
    "import os"
   ]
  },
  {
   "cell_type": "code",
   "execution_count": 2,
   "id": "90ac687a",
   "metadata": {},
   "outputs": [],
   "source": [
    "path = r'/Users/Cel/Documents/Data Analytics/6. Maine Fisheries Landings'"
   ]
  },
  {
   "cell_type": "code",
   "execution_count": 28,
   "id": "0caf18ca",
   "metadata": {},
   "outputs": [],
   "source": [
    "modern_df = pd.read_csv(os.path.join(path, '02 Data', 'Original Data', 'Maine_Modern_Landings_2008-2022_2023-10-13.csv'))"
   ]
  },
  {
   "cell_type": "markdown",
   "id": "7652ccb0",
   "metadata": {},
   "source": [
    "## Cleaning 'modern_df' Data Frame"
   ]
  },
  {
   "cell_type": "markdown",
   "id": "fb4d9913",
   "metadata": {},
   "source": [
    "#### Cleaning up columns"
   ]
  },
  {
   "cell_type": "code",
   "execution_count": 29,
   "id": "1d57732b",
   "metadata": {},
   "outputs": [
    {
     "data": {
      "text/plain": [
       "(4891, 10)"
      ]
     },
     "execution_count": 29,
     "metadata": {},
     "output_type": "execute_result"
    }
   ],
   "source": [
    "# check shape\n",
    "modern_df.shape"
   ]
  },
  {
   "cell_type": "code",
   "execution_count": 30,
   "id": "b7261e7d",
   "metadata": {},
   "outputs": [
    {
     "data": {
      "text/plain": [
       "Index(['year', 'species', 'port', 'county', 'lob_zone', 'weight_type',\n",
       "       'weight', 'value', 'trip_n', 'harv_n'],\n",
       "      dtype='object')"
      ]
     },
     "execution_count": 30,
     "metadata": {},
     "output_type": "execute_result"
    }
   ],
   "source": [
    "# check columns\n",
    "modern_df.columns"
   ]
  },
  {
   "cell_type": "code",
   "execution_count": 31,
   "id": "071a06fa",
   "metadata": {},
   "outputs": [],
   "source": [
    "# delete 'lob_zone' and 'trip_n' columns\n",
    "modern_df.drop(columns = ['lob_zone','trip_n'], inplace = True)"
   ]
  },
  {
   "cell_type": "code",
   "execution_count": 32,
   "id": "5c2b7639",
   "metadata": {},
   "outputs": [
    {
     "data": {
      "text/html": [
       "<div>\n",
       "<style scoped>\n",
       "    .dataframe tbody tr th:only-of-type {\n",
       "        vertical-align: middle;\n",
       "    }\n",
       "\n",
       "    .dataframe tbody tr th {\n",
       "        vertical-align: top;\n",
       "    }\n",
       "\n",
       "    .dataframe thead th {\n",
       "        text-align: right;\n",
       "    }\n",
       "</style>\n",
       "<table border=\"1\" class=\"dataframe\">\n",
       "  <thead>\n",
       "    <tr style=\"text-align: right;\">\n",
       "      <th></th>\n",
       "      <th>year</th>\n",
       "      <th>species</th>\n",
       "      <th>port</th>\n",
       "      <th>county</th>\n",
       "      <th>weight_type</th>\n",
       "      <th>weight</th>\n",
       "      <th>value</th>\n",
       "      <th>harv_n</th>\n",
       "    </tr>\n",
       "  </thead>\n",
       "  <tbody>\n",
       "    <tr>\n",
       "      <th>0</th>\n",
       "      <td>2008</td>\n",
       "      <td>Bloodworms</td>\n",
       "      <td>Addison</td>\n",
       "      <td>Washington</td>\n",
       "      <td>Live Pounds</td>\n",
       "      <td>18934.19</td>\n",
       "      <td>208982.04</td>\n",
       "      <td>145</td>\n",
       "    </tr>\n",
       "    <tr>\n",
       "      <th>1</th>\n",
       "      <td>2008</td>\n",
       "      <td>Bloodworms</td>\n",
       "      <td>Bar Harbor</td>\n",
       "      <td>Hancock</td>\n",
       "      <td>Live Pounds</td>\n",
       "      <td>1396.62</td>\n",
       "      <td>15276.99</td>\n",
       "      <td>31</td>\n",
       "    </tr>\n",
       "    <tr>\n",
       "      <th>2</th>\n",
       "      <td>2008</td>\n",
       "      <td>Bloodworms</td>\n",
       "      <td>Bass Harbor</td>\n",
       "      <td>Hancock</td>\n",
       "      <td>Live Pounds</td>\n",
       "      <td>42.09</td>\n",
       "      <td>448.58</td>\n",
       "      <td>3</td>\n",
       "    </tr>\n",
       "    <tr>\n",
       "      <th>3</th>\n",
       "      <td>2008</td>\n",
       "      <td>Bloodworms</td>\n",
       "      <td>Bath</td>\n",
       "      <td>Sagadahoc</td>\n",
       "      <td>Live Pounds</td>\n",
       "      <td>9408.14</td>\n",
       "      <td>101804.90</td>\n",
       "      <td>60</td>\n",
       "    </tr>\n",
       "    <tr>\n",
       "      <th>4</th>\n",
       "      <td>2008</td>\n",
       "      <td>Bloodworms</td>\n",
       "      <td>Beals</td>\n",
       "      <td>Washington</td>\n",
       "      <td>Live Pounds</td>\n",
       "      <td>1760.18</td>\n",
       "      <td>18989.88</td>\n",
       "      <td>75</td>\n",
       "    </tr>\n",
       "  </tbody>\n",
       "</table>\n",
       "</div>"
      ],
      "text/plain": [
       "   year     species         port      county  weight_type    weight  \\\n",
       "0  2008  Bloodworms      Addison  Washington  Live Pounds  18934.19   \n",
       "1  2008  Bloodworms   Bar Harbor     Hancock  Live Pounds   1396.62   \n",
       "2  2008  Bloodworms  Bass Harbor     Hancock  Live Pounds     42.09   \n",
       "3  2008  Bloodworms         Bath   Sagadahoc  Live Pounds   9408.14   \n",
       "4  2008  Bloodworms        Beals  Washington  Live Pounds   1760.18   \n",
       "\n",
       "       value  harv_n  \n",
       "0  208982.04     145  \n",
       "1   15276.99      31  \n",
       "2     448.58       3  \n",
       "3  101804.90      60  \n",
       "4   18989.88      75  "
      ]
     },
     "execution_count": 32,
     "metadata": {},
     "output_type": "execute_result"
    }
   ],
   "source": [
    "modern_df.head()"
   ]
  },
  {
   "cell_type": "code",
   "execution_count": 33,
   "id": "e626b95b",
   "metadata": {},
   "outputs": [],
   "source": [
    "# rename 'harv_n'\n",
    "modern_df.rename(columns = {'harv_n' : 'number_harvesters'}, inplace = True)"
   ]
  },
  {
   "cell_type": "code",
   "execution_count": 34,
   "id": "db99d13b",
   "metadata": {},
   "outputs": [
    {
     "data": {
      "text/html": [
       "<div>\n",
       "<style scoped>\n",
       "    .dataframe tbody tr th:only-of-type {\n",
       "        vertical-align: middle;\n",
       "    }\n",
       "\n",
       "    .dataframe tbody tr th {\n",
       "        vertical-align: top;\n",
       "    }\n",
       "\n",
       "    .dataframe thead th {\n",
       "        text-align: right;\n",
       "    }\n",
       "</style>\n",
       "<table border=\"1\" class=\"dataframe\">\n",
       "  <thead>\n",
       "    <tr style=\"text-align: right;\">\n",
       "      <th></th>\n",
       "      <th>year</th>\n",
       "      <th>species</th>\n",
       "      <th>port</th>\n",
       "      <th>county</th>\n",
       "      <th>weight_type</th>\n",
       "      <th>weight</th>\n",
       "      <th>value</th>\n",
       "      <th>number_harvesters</th>\n",
       "    </tr>\n",
       "  </thead>\n",
       "  <tbody>\n",
       "    <tr>\n",
       "      <th>0</th>\n",
       "      <td>2008</td>\n",
       "      <td>Bloodworms</td>\n",
       "      <td>Addison</td>\n",
       "      <td>Washington</td>\n",
       "      <td>Live Pounds</td>\n",
       "      <td>18934.19</td>\n",
       "      <td>208982.04</td>\n",
       "      <td>145</td>\n",
       "    </tr>\n",
       "    <tr>\n",
       "      <th>1</th>\n",
       "      <td>2008</td>\n",
       "      <td>Bloodworms</td>\n",
       "      <td>Bar Harbor</td>\n",
       "      <td>Hancock</td>\n",
       "      <td>Live Pounds</td>\n",
       "      <td>1396.62</td>\n",
       "      <td>15276.99</td>\n",
       "      <td>31</td>\n",
       "    </tr>\n",
       "    <tr>\n",
       "      <th>2</th>\n",
       "      <td>2008</td>\n",
       "      <td>Bloodworms</td>\n",
       "      <td>Bass Harbor</td>\n",
       "      <td>Hancock</td>\n",
       "      <td>Live Pounds</td>\n",
       "      <td>42.09</td>\n",
       "      <td>448.58</td>\n",
       "      <td>3</td>\n",
       "    </tr>\n",
       "    <tr>\n",
       "      <th>3</th>\n",
       "      <td>2008</td>\n",
       "      <td>Bloodworms</td>\n",
       "      <td>Bath</td>\n",
       "      <td>Sagadahoc</td>\n",
       "      <td>Live Pounds</td>\n",
       "      <td>9408.14</td>\n",
       "      <td>101804.90</td>\n",
       "      <td>60</td>\n",
       "    </tr>\n",
       "    <tr>\n",
       "      <th>4</th>\n",
       "      <td>2008</td>\n",
       "      <td>Bloodworms</td>\n",
       "      <td>Beals</td>\n",
       "      <td>Washington</td>\n",
       "      <td>Live Pounds</td>\n",
       "      <td>1760.18</td>\n",
       "      <td>18989.88</td>\n",
       "      <td>75</td>\n",
       "    </tr>\n",
       "  </tbody>\n",
       "</table>\n",
       "</div>"
      ],
      "text/plain": [
       "   year     species         port      county  weight_type    weight  \\\n",
       "0  2008  Bloodworms      Addison  Washington  Live Pounds  18934.19   \n",
       "1  2008  Bloodworms   Bar Harbor     Hancock  Live Pounds   1396.62   \n",
       "2  2008  Bloodworms  Bass Harbor     Hancock  Live Pounds     42.09   \n",
       "3  2008  Bloodworms         Bath   Sagadahoc  Live Pounds   9408.14   \n",
       "4  2008  Bloodworms        Beals  Washington  Live Pounds   1760.18   \n",
       "\n",
       "       value  number_harvesters  \n",
       "0  208982.04                145  \n",
       "1   15276.99                 31  \n",
       "2     448.58                  3  \n",
       "3  101804.90                 60  \n",
       "4   18989.88                 75  "
      ]
     },
     "execution_count": 34,
     "metadata": {},
     "output_type": "execute_result"
    }
   ],
   "source": [
    "# check columns\n",
    "modern_df.head()"
   ]
  },
  {
   "cell_type": "markdown",
   "id": "38e47b9d",
   "metadata": {},
   "source": [
    "#### General data consistency checks"
   ]
  },
  {
   "cell_type": "code",
   "execution_count": 36,
   "id": "61558f27",
   "metadata": {},
   "outputs": [
    {
     "data": {
      "text/html": [
       "<div>\n",
       "<style scoped>\n",
       "    .dataframe tbody tr th:only-of-type {\n",
       "        vertical-align: middle;\n",
       "    }\n",
       "\n",
       "    .dataframe tbody tr th {\n",
       "        vertical-align: top;\n",
       "    }\n",
       "\n",
       "    .dataframe thead th {\n",
       "        text-align: right;\n",
       "    }\n",
       "</style>\n",
       "<table border=\"1\" class=\"dataframe\">\n",
       "  <thead>\n",
       "    <tr style=\"text-align: right;\">\n",
       "      <th></th>\n",
       "      <th>year</th>\n",
       "      <th>weight</th>\n",
       "      <th>value</th>\n",
       "      <th>number_harvesters</th>\n",
       "    </tr>\n",
       "  </thead>\n",
       "  <tbody>\n",
       "    <tr>\n",
       "      <th>count</th>\n",
       "      <td>4891.000000</td>\n",
       "      <td>4.891000e+03</td>\n",
       "      <td>4.891000e+03</td>\n",
       "      <td>4891.000000</td>\n",
       "    </tr>\n",
       "    <tr>\n",
       "      <th>mean</th>\n",
       "      <td>2015.076467</td>\n",
       "      <td>7.771021e+05</td>\n",
       "      <td>1.711111e+06</td>\n",
       "      <td>48.544674</td>\n",
       "    </tr>\n",
       "    <tr>\n",
       "      <th>std</th>\n",
       "      <td>4.269773</td>\n",
       "      <td>3.081906e+06</td>\n",
       "      <td>5.919887e+06</td>\n",
       "      <td>67.416732</td>\n",
       "    </tr>\n",
       "    <tr>\n",
       "      <th>min</th>\n",
       "      <td>2008.000000</td>\n",
       "      <td>0.000000e+00</td>\n",
       "      <td>0.000000e+00</td>\n",
       "      <td>1.000000</td>\n",
       "    </tr>\n",
       "    <tr>\n",
       "      <th>25%</th>\n",
       "      <td>2011.000000</td>\n",
       "      <td>5.268425e+03</td>\n",
       "      <td>3.571507e+04</td>\n",
       "      <td>10.000000</td>\n",
       "    </tr>\n",
       "    <tr>\n",
       "      <th>50%</th>\n",
       "      <td>2015.000000</td>\n",
       "      <td>5.883733e+04</td>\n",
       "      <td>1.824522e+05</td>\n",
       "      <td>25.000000</td>\n",
       "    </tr>\n",
       "    <tr>\n",
       "      <th>75%</th>\n",
       "      <td>2019.000000</td>\n",
       "      <td>3.840468e+05</td>\n",
       "      <td>8.240626e+05</td>\n",
       "      <td>58.000000</td>\n",
       "    </tr>\n",
       "    <tr>\n",
       "      <th>max</th>\n",
       "      <td>2022.000000</td>\n",
       "      <td>5.178894e+07</td>\n",
       "      <td>1.001032e+08</td>\n",
       "      <td>791.000000</td>\n",
       "    </tr>\n",
       "  </tbody>\n",
       "</table>\n",
       "</div>"
      ],
      "text/plain": [
       "              year        weight         value  number_harvesters\n",
       "count  4891.000000  4.891000e+03  4.891000e+03        4891.000000\n",
       "mean   2015.076467  7.771021e+05  1.711111e+06          48.544674\n",
       "std       4.269773  3.081906e+06  5.919887e+06          67.416732\n",
       "min    2008.000000  0.000000e+00  0.000000e+00           1.000000\n",
       "25%    2011.000000  5.268425e+03  3.571507e+04          10.000000\n",
       "50%    2015.000000  5.883733e+04  1.824522e+05          25.000000\n",
       "75%    2019.000000  3.840468e+05  8.240626e+05          58.000000\n",
       "max    2022.000000  5.178894e+07  1.001032e+08         791.000000"
      ]
     },
     "execution_count": 36,
     "metadata": {},
     "output_type": "execute_result"
    }
   ],
   "source": [
    "modern_df.describe()"
   ]
  },
  {
   "cell_type": "code",
   "execution_count": 37,
   "id": "7348d7b3",
   "metadata": {},
   "outputs": [],
   "source": [
    "# create subset to inspect min weight = 0\n",
    "min_weight = modern_df[modern_df['weight'] == 0]"
   ]
  },
  {
   "cell_type": "code",
   "execution_count": 38,
   "id": "d520f44c",
   "metadata": {},
   "outputs": [
    {
     "data": {
      "text/html": [
       "<div>\n",
       "<style scoped>\n",
       "    .dataframe tbody tr th:only-of-type {\n",
       "        vertical-align: middle;\n",
       "    }\n",
       "\n",
       "    .dataframe tbody tr th {\n",
       "        vertical-align: top;\n",
       "    }\n",
       "\n",
       "    .dataframe thead th {\n",
       "        text-align: right;\n",
       "    }\n",
       "</style>\n",
       "<table border=\"1\" class=\"dataframe\">\n",
       "  <thead>\n",
       "    <tr style=\"text-align: right;\">\n",
       "      <th></th>\n",
       "      <th>year</th>\n",
       "      <th>species</th>\n",
       "      <th>port</th>\n",
       "      <th>county</th>\n",
       "      <th>weight_type</th>\n",
       "      <th>weight</th>\n",
       "      <th>value</th>\n",
       "      <th>number_harvesters</th>\n",
       "    </tr>\n",
       "  </thead>\n",
       "  <tbody>\n",
       "    <tr>\n",
       "      <th>4816</th>\n",
       "      <td>2022</td>\n",
       "      <td>Menhaden Unc</td>\n",
       "      <td>Other Maine</td>\n",
       "      <td>Not-Specified</td>\n",
       "      <td>Live Pounds</td>\n",
       "      <td>0.0</td>\n",
       "      <td>0.0</td>\n",
       "      <td>22</td>\n",
       "    </tr>\n",
       "  </tbody>\n",
       "</table>\n",
       "</div>"
      ],
      "text/plain": [
       "      year       species         port         county  weight_type  weight  \\\n",
       "4816  2022  Menhaden Unc  Other Maine  Not-Specified  Live Pounds     0.0   \n",
       "\n",
       "      value  number_harvesters  \n",
       "4816    0.0                 22  "
      ]
     },
     "execution_count": 38,
     "metadata": {},
     "output_type": "execute_result"
    }
   ],
   "source": [
    "min_weight"
   ]
  },
  {
   "cell_type": "code",
   "execution_count": 39,
   "id": "869237f7",
   "metadata": {},
   "outputs": [],
   "source": [
    "# create subset to inspect min value = 0\n",
    "min_value = modern_df[modern_df['value'] == 0]"
   ]
  },
  {
   "cell_type": "code",
   "execution_count": 40,
   "id": "aa58e7e3",
   "metadata": {},
   "outputs": [
    {
     "data": {
      "text/html": [
       "<div>\n",
       "<style scoped>\n",
       "    .dataframe tbody tr th:only-of-type {\n",
       "        vertical-align: middle;\n",
       "    }\n",
       "\n",
       "    .dataframe tbody tr th {\n",
       "        vertical-align: top;\n",
       "    }\n",
       "\n",
       "    .dataframe thead th {\n",
       "        text-align: right;\n",
       "    }\n",
       "</style>\n",
       "<table border=\"1\" class=\"dataframe\">\n",
       "  <thead>\n",
       "    <tr style=\"text-align: right;\">\n",
       "      <th></th>\n",
       "      <th>year</th>\n",
       "      <th>species</th>\n",
       "      <th>port</th>\n",
       "      <th>county</th>\n",
       "      <th>weight_type</th>\n",
       "      <th>weight</th>\n",
       "      <th>value</th>\n",
       "      <th>number_harvesters</th>\n",
       "    </tr>\n",
       "  </thead>\n",
       "  <tbody>\n",
       "    <tr>\n",
       "      <th>4816</th>\n",
       "      <td>2022</td>\n",
       "      <td>Menhaden Unc</td>\n",
       "      <td>Other Maine</td>\n",
       "      <td>Not-Specified</td>\n",
       "      <td>Live Pounds</td>\n",
       "      <td>0.0</td>\n",
       "      <td>0.0</td>\n",
       "      <td>22</td>\n",
       "    </tr>\n",
       "  </tbody>\n",
       "</table>\n",
       "</div>"
      ],
      "text/plain": [
       "      year       species         port         county  weight_type  weight  \\\n",
       "4816  2022  Menhaden Unc  Other Maine  Not-Specified  Live Pounds     0.0   \n",
       "\n",
       "      value  number_harvesters  \n",
       "4816    0.0                 22  "
      ]
     },
     "execution_count": 40,
     "metadata": {},
     "output_type": "execute_result"
    }
   ],
   "source": [
    "min_value"
   ]
  },
  {
   "cell_type": "code",
   "execution_count": 43,
   "id": "793ca4da",
   "metadata": {},
   "outputs": [],
   "source": [
    "# delete index 4816\n",
    "modern_df = modern_df.drop(4816)"
   ]
  },
  {
   "cell_type": "code",
   "execution_count": 44,
   "id": "259fd25e",
   "metadata": {},
   "outputs": [
    {
     "data": {
      "text/plain": [
       "(4890, 8)"
      ]
     },
     "execution_count": 44,
     "metadata": {},
     "output_type": "execute_result"
    }
   ],
   "source": [
    "modern_df.shape"
   ]
  },
  {
   "cell_type": "markdown",
   "id": "7a655885",
   "metadata": {},
   "source": [
    "#### Find and address mixed data types"
   ]
  },
  {
   "cell_type": "code",
   "execution_count": 49,
   "id": "2c05fa4f",
   "metadata": {},
   "outputs": [
    {
     "name": "stdout",
     "output_type": "stream",
     "text": [
      "<class 'pandas.core.frame.DataFrame'>\n",
      "Index: 4890 entries, 0 to 4890\n",
      "Data columns (total 8 columns):\n",
      " #   Column             Non-Null Count  Dtype  \n",
      "---  ------             --------------  -----  \n",
      " 0   year               4890 non-null   int64  \n",
      " 1   species            4889 non-null   object \n",
      " 2   port               4890 non-null   object \n",
      " 3   county             4890 non-null   object \n",
      " 4   weight_type        4890 non-null   object \n",
      " 5   weight             4890 non-null   float64\n",
      " 6   value              4890 non-null   float64\n",
      " 7   number_harvesters  4890 non-null   int64  \n",
      "dtypes: float64(2), int64(2), object(4)\n",
      "memory usage: 343.8+ KB\n"
     ]
    }
   ],
   "source": [
    "modern_df.info()"
   ]
  },
  {
   "cell_type": "code",
   "execution_count": 47,
   "id": "1acde8ad",
   "metadata": {},
   "outputs": [
    {
     "name": "stdout",
     "output_type": "stream",
     "text": [
      "species\n"
     ]
    }
   ],
   "source": [
    "# use for-loop to check for columns with mixed data types\n",
    "\n",
    "for col in modern_df.columns.tolist():\n",
    "  weird = (modern_df[[col]].applymap(type) != modern_df[[col]].iloc[0].apply(type)).any(axis = 1)\n",
    "  if len (modern_df[weird]) > 0:\n",
    "    print (col)"
   ]
  },
  {
   "cell_type": "code",
   "execution_count": 53,
   "id": "4aee7fc4",
   "metadata": {},
   "outputs": [],
   "source": [
    "# convert all cells in 'species' to object data type\n",
    "modern_df['species'] = modern_df['species'].astype('str')"
   ]
  },
  {
   "cell_type": "code",
   "execution_count": 54,
   "id": "5a8aba0e",
   "metadata": {},
   "outputs": [
    {
     "data": {
      "text/plain": [
       "dtype('O')"
      ]
     },
     "execution_count": 54,
     "metadata": {},
     "output_type": "execute_result"
    }
   ],
   "source": [
    "# double check\n",
    "modern_df['species'].dtype"
   ]
  },
  {
   "cell_type": "markdown",
   "id": "fcbb91b9",
   "metadata": {},
   "source": [
    "#### Find and address missing values"
   ]
  },
  {
   "cell_type": "code",
   "execution_count": 55,
   "id": "9e19fcd4",
   "metadata": {},
   "outputs": [
    {
     "data": {
      "text/plain": [
       "year                 0\n",
       "species              0\n",
       "port                 0\n",
       "county               0\n",
       "weight_type          0\n",
       "weight               0\n",
       "value                0\n",
       "number_harvesters    0\n",
       "dtype: int64"
      ]
     },
     "execution_count": 55,
     "metadata": {},
     "output_type": "execute_result"
    }
   ],
   "source": [
    "# find missing values\n",
    "modern_df.isnull().sum()"
   ]
  },
  {
   "cell_type": "code",
   "execution_count": 59,
   "id": "5396a5c9",
   "metadata": {},
   "outputs": [
    {
     "data": {
      "text/plain": [
       "year\n",
       "2015    352\n",
       "2018    346\n",
       "2014    342\n",
       "2016    341\n",
       "2021    334\n",
       "2013    331\n",
       "2012    330\n",
       "2017    328\n",
       "2022    328\n",
       "2020    322\n",
       "2010    317\n",
       "2011    311\n",
       "2008    307\n",
       "2009    301\n",
       "2019    300\n",
       "Name: count, dtype: int64"
      ]
     },
     "execution_count": 59,
     "metadata": {},
     "output_type": "execute_result"
    }
   ],
   "source": [
    "# check for 'unknown' category names in 'year'\n",
    "modern_df['year'].value_counts(dropna = False)"
   ]
  },
  {
   "cell_type": "code",
   "execution_count": 60,
   "id": "597208ee",
   "metadata": {},
   "outputs": [
    {
     "data": {
      "text/plain": [
       "species\n",
       "Lobster American                       1114\n",
       "Clam Soft                               922\n",
       "Elver                                   525\n",
       "Bloodworms                              345\n",
       "Scallop Sea                             289\n",
       "Menhaden Atlantic                       225\n",
       "Oyster Eastern / American               133\n",
       "Crab Atlantic Rock                      128\n",
       "Sandworms                               112\n",
       "Crab Jonah                              108\n",
       "Sea Urchin                              105\n",
       "Clam Northern Quahog / Hard             102\n",
       "Halibut Atlantic                         99\n",
       "Tuna Atlantic Bluefin                    99\n",
       "Herring Atlantic                         76\n",
       "Shrimp Northern                          54\n",
       "Periwinkle Common                        43\n",
       "Mussel Blue Sea                          35\n",
       "Clam Razor Atlantic                      28\n",
       "Oyster European Flat                     26\n",
       "Haddock                                  24\n",
       "Cod Atlantic                             24\n",
       "Pollock                                  24\n",
       "Monkfish                                 23\n",
       "Hake White                               21\n",
       "Redfish Acadian Ocean Perch              20\n",
       "Mackerel Atlantic                        18\n",
       "Clam Ocean Quahog                        18\n",
       "Cusk                                     15\n",
       "Rockweed                                 14\n",
       "Crab Unc                                 14\n",
       "Unidentified Catch                       14\n",
       "Plaice American (Dab)                    14\n",
       "Flounder Atlantic Witch (Gray Sole)      14\n",
       "Whelk Waved                              10\n",
       "Dogfish Spiny                             8\n",
       "Hake Silver (Whiting)                     7\n",
       "Smelts                                    5\n",
       "Seaweed Unc                               4\n",
       "Squid Short-Finned                        4\n",
       "Hagfish                                   3\n",
       "Wolffish Atlantic                         3\n",
       "Cucumber Sea                              3\n",
       "Bluefish                                  2\n",
       "Flounder Yellowtail                       2\n",
       "Clam Surf / Hen                           2\n",
       "Flounder Winter                           2\n",
       "Kelp Sugar                                2\n",
       "Squid Long Finned                         1\n",
       "Skates                                    1\n",
       "Swordfish                                 1\n",
       "Yellow Eel                                1\n",
       "Tuna Bigeye                               1\n",
       "nan                                       1\n",
       "Skate Barndoor                            1\n",
       "Kelp Unc                                  1\n",
       "Name: count, dtype: int64"
      ]
     },
     "execution_count": 60,
     "metadata": {},
     "output_type": "execute_result"
    }
   ],
   "source": [
    "# check for 'unknown' category names in 'species'\n",
    "modern_df['species'].value_counts(dropna = False)"
   ]
  },
  {
   "cell_type": "code",
   "execution_count": 61,
   "id": "e9168b57",
   "metadata": {},
   "outputs": [
    {
     "data": {
      "text/plain": [
       "county\n",
       "Hancock          1251\n",
       "Washington        896\n",
       "Cumberland        626\n",
       "Knox              588\n",
       "Lincoln           509\n",
       "Not-Specified     453\n",
       "York              205\n",
       "Sagadahoc         198\n",
       "Waldo             107\n",
       "Penobscot          32\n",
       "UK                 21\n",
       "Kennebec            4\n",
       "Name: count, dtype: int64"
      ]
     },
     "execution_count": 61,
     "metadata": {},
     "output_type": "execute_result"
    }
   ],
   "source": [
    "# check for 'unknown' category names in 'county'\n",
    "modern_df['county'].value_counts(dropna = False)"
   ]
  },
  {
   "cell_type": "code",
   "execution_count": 62,
   "id": "cdb56f29",
   "metadata": {},
   "outputs": [
    {
     "data": {
      "text/plain": [
       "weight_type\n",
       "Live Pounds    4601\n",
       "Meat Pounds     289\n",
       "Name: count, dtype: int64"
      ]
     },
     "execution_count": 62,
     "metadata": {},
     "output_type": "execute_result"
    }
   ],
   "source": [
    "# check for 'unknown' category names in 'weight_type'\n",
    "modern_df['weight_type'].value_counts(dropna = False)"
   ]
  },
  {
   "cell_type": "markdown",
   "id": "a7bb7c29",
   "metadata": {},
   "source": [
    "A few flag categories exist in the data: species = 'unidentified catch', and county = 'UK' (unknown) and 'Not-specified'"
   ]
  },
  {
   "cell_type": "markdown",
   "id": "7b8870b7",
   "metadata": {},
   "source": [
    "#### Find and address duplicate records"
   ]
  },
  {
   "cell_type": "code",
   "execution_count": 65,
   "id": "98f6f38b",
   "metadata": {},
   "outputs": [],
   "source": [
    "# create subset for full duplicates\n",
    "df_dups = modern_df[modern_df.duplicated()]"
   ]
  },
  {
   "cell_type": "code",
   "execution_count": 66,
   "id": "ea32db0c",
   "metadata": {},
   "outputs": [
    {
     "data": {
      "text/html": [
       "<div>\n",
       "<style scoped>\n",
       "    .dataframe tbody tr th:only-of-type {\n",
       "        vertical-align: middle;\n",
       "    }\n",
       "\n",
       "    .dataframe tbody tr th {\n",
       "        vertical-align: top;\n",
       "    }\n",
       "\n",
       "    .dataframe thead th {\n",
       "        text-align: right;\n",
       "    }\n",
       "</style>\n",
       "<table border=\"1\" class=\"dataframe\">\n",
       "  <thead>\n",
       "    <tr style=\"text-align: right;\">\n",
       "      <th></th>\n",
       "      <th>year</th>\n",
       "      <th>species</th>\n",
       "      <th>port</th>\n",
       "      <th>county</th>\n",
       "      <th>weight_type</th>\n",
       "      <th>weight</th>\n",
       "      <th>value</th>\n",
       "      <th>number_harvesters</th>\n",
       "    </tr>\n",
       "  </thead>\n",
       "  <tbody>\n",
       "  </tbody>\n",
       "</table>\n",
       "</div>"
      ],
      "text/plain": [
       "Empty DataFrame\n",
       "Columns: [year, species, port, county, weight_type, weight, value, number_harvesters]\n",
       "Index: []"
      ]
     },
     "execution_count": 66,
     "metadata": {},
     "output_type": "execute_result"
    }
   ],
   "source": [
    "df_dups"
   ]
  },
  {
   "cell_type": "markdown",
   "id": "8a56285a",
   "metadata": {},
   "source": [
    "No full duplicates!"
   ]
  },
  {
   "cell_type": "markdown",
   "id": "33c8d350",
   "metadata": {},
   "source": [
    "## Summary statistics after data cleaning"
   ]
  },
  {
   "cell_type": "code",
   "execution_count": 99,
   "id": "c276609f",
   "metadata": {},
   "outputs": [
    {
     "data": {
      "text/html": [
       "<div>\n",
       "<style scoped>\n",
       "    .dataframe tbody tr th:only-of-type {\n",
       "        vertical-align: middle;\n",
       "    }\n",
       "\n",
       "    .dataframe tbody tr th {\n",
       "        vertical-align: top;\n",
       "    }\n",
       "\n",
       "    .dataframe thead th {\n",
       "        text-align: right;\n",
       "    }\n",
       "</style>\n",
       "<table border=\"1\" class=\"dataframe\">\n",
       "  <thead>\n",
       "    <tr style=\"text-align: right;\">\n",
       "      <th></th>\n",
       "      <th>year</th>\n",
       "      <th>weight</th>\n",
       "      <th>value</th>\n",
       "      <th>number_harvesters</th>\n",
       "    </tr>\n",
       "  </thead>\n",
       "  <tbody>\n",
       "    <tr>\n",
       "      <th>count</th>\n",
       "      <td>4890.000000</td>\n",
       "      <td>4.890000e+03</td>\n",
       "      <td>4.890000e+03</td>\n",
       "      <td>4890.000000</td>\n",
       "    </tr>\n",
       "    <tr>\n",
       "      <th>mean</th>\n",
       "      <td>2015.075051</td>\n",
       "      <td>7.772610e+05</td>\n",
       "      <td>1.711461e+06</td>\n",
       "      <td>48.550102</td>\n",
       "    </tr>\n",
       "    <tr>\n",
       "      <th>std</th>\n",
       "      <td>4.269061</td>\n",
       "      <td>3.082201e+06</td>\n",
       "      <td>5.920442e+06</td>\n",
       "      <td>67.422557</td>\n",
       "    </tr>\n",
       "    <tr>\n",
       "      <th>min</th>\n",
       "      <td>2008.000000</td>\n",
       "      <td>2.000000e-01</td>\n",
       "      <td>2.150000e+00</td>\n",
       "      <td>1.000000</td>\n",
       "    </tr>\n",
       "    <tr>\n",
       "      <th>25%</th>\n",
       "      <td>2011.000000</td>\n",
       "      <td>5.274995e+03</td>\n",
       "      <td>3.573835e+04</td>\n",
       "      <td>10.000000</td>\n",
       "    </tr>\n",
       "    <tr>\n",
       "      <th>50%</th>\n",
       "      <td>2015.000000</td>\n",
       "      <td>5.888356e+04</td>\n",
       "      <td>1.825623e+05</td>\n",
       "      <td>25.000000</td>\n",
       "    </tr>\n",
       "    <tr>\n",
       "      <th>75%</th>\n",
       "      <td>2019.000000</td>\n",
       "      <td>3.844331e+05</td>\n",
       "      <td>8.242147e+05</td>\n",
       "      <td>58.000000</td>\n",
       "    </tr>\n",
       "    <tr>\n",
       "      <th>max</th>\n",
       "      <td>2022.000000</td>\n",
       "      <td>5.178894e+07</td>\n",
       "      <td>1.001032e+08</td>\n",
       "      <td>791.000000</td>\n",
       "    </tr>\n",
       "  </tbody>\n",
       "</table>\n",
       "</div>"
      ],
      "text/plain": [
       "              year        weight         value  number_harvesters\n",
       "count  4890.000000  4.890000e+03  4.890000e+03        4890.000000\n",
       "mean   2015.075051  7.772610e+05  1.711461e+06          48.550102\n",
       "std       4.269061  3.082201e+06  5.920442e+06          67.422557\n",
       "min    2008.000000  2.000000e-01  2.150000e+00           1.000000\n",
       "25%    2011.000000  5.274995e+03  3.573835e+04          10.000000\n",
       "50%    2015.000000  5.888356e+04  1.825623e+05          25.000000\n",
       "75%    2019.000000  3.844331e+05  8.242147e+05          58.000000\n",
       "max    2022.000000  5.178894e+07  1.001032e+08         791.000000"
      ]
     },
     "execution_count": 99,
     "metadata": {},
     "output_type": "execute_result"
    }
   ],
   "source": [
    "modern_df.describe()"
   ]
  },
  {
   "cell_type": "code",
   "execution_count": 111,
   "id": "097be1df",
   "metadata": {},
   "outputs": [
    {
     "data": {
      "text/html": [
       "<div>\n",
       "<style scoped>\n",
       "    .dataframe tbody tr th:only-of-type {\n",
       "        vertical-align: middle;\n",
       "    }\n",
       "\n",
       "    .dataframe tbody tr th {\n",
       "        vertical-align: top;\n",
       "    }\n",
       "\n",
       "    .dataframe thead th {\n",
       "        text-align: right;\n",
       "    }\n",
       "</style>\n",
       "<table border=\"1\" class=\"dataframe\">\n",
       "  <thead>\n",
       "    <tr style=\"text-align: right;\">\n",
       "      <th></th>\n",
       "      <th>year</th>\n",
       "      <th>species</th>\n",
       "      <th>port</th>\n",
       "      <th>county</th>\n",
       "      <th>weight_type</th>\n",
       "      <th>weight</th>\n",
       "      <th>value</th>\n",
       "      <th>number_harvesters</th>\n",
       "    </tr>\n",
       "  </thead>\n",
       "  <tbody>\n",
       "    <tr>\n",
       "      <th>0</th>\n",
       "      <td>2008</td>\n",
       "      <td>Bloodworms</td>\n",
       "      <td>Addison</td>\n",
       "      <td>Washington</td>\n",
       "      <td>Live Pounds</td>\n",
       "      <td>18934.19</td>\n",
       "      <td>208982.04</td>\n",
       "      <td>145</td>\n",
       "    </tr>\n",
       "    <tr>\n",
       "      <th>1</th>\n",
       "      <td>2008</td>\n",
       "      <td>Bloodworms</td>\n",
       "      <td>Bar Harbor</td>\n",
       "      <td>Hancock</td>\n",
       "      <td>Live Pounds</td>\n",
       "      <td>1396.62</td>\n",
       "      <td>15276.99</td>\n",
       "      <td>31</td>\n",
       "    </tr>\n",
       "    <tr>\n",
       "      <th>2</th>\n",
       "      <td>2008</td>\n",
       "      <td>Bloodworms</td>\n",
       "      <td>Bass Harbor</td>\n",
       "      <td>Hancock</td>\n",
       "      <td>Live Pounds</td>\n",
       "      <td>42.09</td>\n",
       "      <td>448.58</td>\n",
       "      <td>3</td>\n",
       "    </tr>\n",
       "    <tr>\n",
       "      <th>3</th>\n",
       "      <td>2008</td>\n",
       "      <td>Bloodworms</td>\n",
       "      <td>Bath</td>\n",
       "      <td>Sagadahoc</td>\n",
       "      <td>Live Pounds</td>\n",
       "      <td>9408.14</td>\n",
       "      <td>101804.90</td>\n",
       "      <td>60</td>\n",
       "    </tr>\n",
       "    <tr>\n",
       "      <th>4</th>\n",
       "      <td>2008</td>\n",
       "      <td>Bloodworms</td>\n",
       "      <td>Beals</td>\n",
       "      <td>Washington</td>\n",
       "      <td>Live Pounds</td>\n",
       "      <td>1760.18</td>\n",
       "      <td>18989.88</td>\n",
       "      <td>75</td>\n",
       "    </tr>\n",
       "  </tbody>\n",
       "</table>\n",
       "</div>"
      ],
      "text/plain": [
       "   year     species         port      county  weight_type    weight  \\\n",
       "0  2008  Bloodworms      Addison  Washington  Live Pounds  18934.19   \n",
       "1  2008  Bloodworms   Bar Harbor     Hancock  Live Pounds   1396.62   \n",
       "2  2008  Bloodworms  Bass Harbor     Hancock  Live Pounds     42.09   \n",
       "3  2008  Bloodworms         Bath   Sagadahoc  Live Pounds   9408.14   \n",
       "4  2008  Bloodworms        Beals  Washington  Live Pounds   1760.18   \n",
       "\n",
       "       value  number_harvesters  \n",
       "0  208982.04                145  \n",
       "1   15276.99                 31  \n",
       "2     448.58                  3  \n",
       "3  101804.90                 60  \n",
       "4   18989.88                 75  "
      ]
     },
     "execution_count": 111,
     "metadata": {},
     "output_type": "execute_result"
    }
   ],
   "source": [
    "modern_df.head()"
   ]
  },
  {
   "cell_type": "markdown",
   "id": "7ecbd9b1",
   "metadata": {},
   "source": [
    "## Export as pkl"
   ]
  },
  {
   "cell_type": "code",
   "execution_count": 113,
   "id": "75373603",
   "metadata": {},
   "outputs": [],
   "source": [
    "# exporting clean data frame\n",
    "modern_df.to_csv(os.path.join(path, '02 Data','Prepared Data', 'landings_clean.csv'))"
   ]
  },
  {
   "cell_type": "code",
   "execution_count": null,
   "id": "65229c54",
   "metadata": {},
   "outputs": [],
   "source": []
  }
 ],
 "metadata": {
  "kernelspec": {
   "display_name": "Python 3 (ipykernel)",
   "language": "python",
   "name": "python3"
  },
  "language_info": {
   "codemirror_mode": {
    "name": "ipython",
    "version": 3
   },
   "file_extension": ".py",
   "mimetype": "text/x-python",
   "name": "python",
   "nbconvert_exporter": "python",
   "pygments_lexer": "ipython3",
   "version": "3.11.4"
  }
 },
 "nbformat": 4,
 "nbformat_minor": 5
}
