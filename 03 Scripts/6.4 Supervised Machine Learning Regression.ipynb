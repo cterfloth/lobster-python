{
 "cells": [
  {
   "cell_type": "markdown",
   "id": "3cc4c0b1",
   "metadata": {},
   "source": [
    "## Importing libraries and data"
   ]
  },
  {
   "cell_type": "code",
   "execution_count": 1,
   "id": "6bd4db42",
   "metadata": {},
   "outputs": [],
   "source": [
    "import pandas as pd\n",
    "import numpy as np\n",
    "import seaborn as sns\n",
    "import matplotlib\n",
    "import matplotlib.pyplot as plt\n",
    "import os\n",
    "import sklearn\n",
    "from sklearn.model_selection import train_test_split \n",
    "from sklearn.linear_model import LinearRegression\n",
    "from sklearn.metrics import mean_squared_error, r2_score"
   ]
  },
  {
   "cell_type": "code",
   "execution_count": 2,
   "id": "013aff05",
   "metadata": {},
   "outputs": [],
   "source": [
    "# have matplotlib visuals appear in the notebook \n",
    "\n",
    "%matplotlib inline"
   ]
  },
  {
   "cell_type": "code",
   "execution_count": 3,
   "id": "405e19c0",
   "metadata": {},
   "outputs": [],
   "source": [
    "# define path\n",
    "path = '/Users/Cel/Documents/Data Analytics/6. Maine Fisheries Landings'"
   ]
  },
  {
   "cell_type": "code",
   "execution_count": 4,
   "id": "ea2e1514",
   "metadata": {},
   "outputs": [],
   "source": [
    "# import data\n",
    "df = pd.read_csv(os.path.join(path, '02 Data', 'Prepared Data', 'landings_clean.csv'), index_col = False)"
   ]
  },
  {
   "cell_type": "markdown",
   "id": "27034fa7",
   "metadata": {},
   "source": [
    "## Data cleaning"
   ]
  },
  {
   "cell_type": "code",
   "execution_count": 5,
   "id": "f44c93a6",
   "metadata": {},
   "outputs": [
    {
     "data": {
      "text/plain": [
       "Index(['Unnamed: 0', 'year', 'species', 'port', 'county', 'weight_type',\n",
       "       'weight', 'value', 'number_harvesters', 'price_per_lb'],\n",
       "      dtype='object')"
      ]
     },
     "execution_count": 5,
     "metadata": {},
     "output_type": "execute_result"
    }
   ],
   "source": [
    "df.columns"
   ]
  },
  {
   "cell_type": "markdown",
   "id": "f984219e",
   "metadata": {},
   "source": [
    "#### Missing values"
   ]
  },
  {
   "cell_type": "code",
   "execution_count": 6,
   "id": "d0969f26",
   "metadata": {},
   "outputs": [
    {
     "data": {
      "text/plain": [
       "Unnamed: 0           0\n",
       "year                 0\n",
       "species              0\n",
       "port                 0\n",
       "county               0\n",
       "weight_type          0\n",
       "weight               0\n",
       "value                0\n",
       "number_harvesters    0\n",
       "price_per_lb         0\n",
       "dtype: int64"
      ]
     },
     "execution_count": 6,
     "metadata": {},
     "output_type": "execute_result"
    }
   ],
   "source": [
    "df.isnull().sum()"
   ]
  },
  {
   "cell_type": "markdown",
   "id": "5574200f",
   "metadata": {},
   "source": [
    "#### Duplicates"
   ]
  },
  {
   "cell_type": "code",
   "execution_count": 7,
   "id": "7f473cd0",
   "metadata": {},
   "outputs": [],
   "source": [
    "dups = df.duplicated()"
   ]
  },
  {
   "cell_type": "code",
   "execution_count": 8,
   "id": "b9172804",
   "metadata": {},
   "outputs": [
    {
     "data": {
      "text/plain": [
       "(4889,)"
      ]
     },
     "execution_count": 8,
     "metadata": {},
     "output_type": "execute_result"
    }
   ],
   "source": [
    "dups.shape # no dups"
   ]
  },
  {
   "cell_type": "markdown",
   "id": "c3da1c98",
   "metadata": {},
   "source": [
    "#### Extreme values"
   ]
  },
  {
   "cell_type": "code",
   "execution_count": 9,
   "id": "ccbc8f1f",
   "metadata": {},
   "outputs": [
    {
     "name": "stderr",
     "output_type": "stream",
     "text": [
      "/var/folders/h2/jmnpmtkj7wl_jwjm4dq4g_gr0000gn/T/ipykernel_58733/1232294432.py:1: UserWarning: \n",
      "\n",
      "`distplot` is a deprecated function and will be removed in seaborn v0.14.0.\n",
      "\n",
      "Please adapt your code to use either `displot` (a figure-level function with\n",
      "similar flexibility) or `histplot` (an axes-level function for histograms).\n",
      "\n",
      "For a guide to updating your code to use the new functions, please see\n",
      "https://gist.github.com/mwaskom/de44147ed2974457ad6372750bbe5751\n",
      "\n",
      "  sns.distplot(df['price_per_lb'], bins=25) # Shows extreme values\n"
     ]
    },
    {
     "data": {
      "text/plain": [
       "<Axes: xlabel='price_per_lb', ylabel='Density'>"
      ]
     },
     "execution_count": 9,
     "metadata": {},
     "output_type": "execute_result"
    },
    {
     "data": {
      "image/png": "[encoded data removed]",
      "text/plain": [
       "<Figure size 640x480 with 1 Axes>"
      ]
     },
     "metadata": {},
     "output_type": "display_data"
    }
   ],
   "source": [
    "sns.distplot(df['price_per_lb'], bins=25) # Shows extreme values"
   ]
  },
  {
   "cell_type": "code",
   "execution_count": 10,
   "id": "401fff7a",
   "metadata": {},
   "outputs": [],
   "source": [
    "# price of elver is distorting other species prices so we'll make another histogram exclusing elver\n",
    "df_no_elver = df[df['species'] != 'Elver']"
   ]
  },
  {
   "cell_type": "code",
   "execution_count": 11,
   "id": "72730ab7",
   "metadata": {},
   "outputs": [
    {
     "data": {
      "text/html": [
       "<div>\n",
       "<style scoped>\n",
       "    .dataframe tbody tr th:only-of-type {\n",
       "        vertical-align: middle;\n",
       "    }\n",
       "\n",
       "    .dataframe tbody tr th {\n",
       "        vertical-align: top;\n",
       "    }\n",
       "\n",
       "    .dataframe thead th {\n",
       "        text-align: right;\n",
       "    }\n",
       "</style>\n",
       "<table border=\"1\" class=\"dataframe\">\n",
       "  <thead>\n",
       "    <tr style=\"text-align: right;\">\n",
       "      <th></th>\n",
       "      <th>Unnamed: 0</th>\n",
       "      <th>year</th>\n",
       "      <th>species</th>\n",
       "      <th>port</th>\n",
       "      <th>county</th>\n",
       "      <th>weight_type</th>\n",
       "      <th>weight</th>\n",
       "      <th>value</th>\n",
       "      <th>number_harvesters</th>\n",
       "      <th>price_per_lb</th>\n",
       "    </tr>\n",
       "  </thead>\n",
       "  <tbody>\n",
       "    <tr>\n",
       "      <th>0</th>\n",
       "      <td>0</td>\n",
       "      <td>2008</td>\n",
       "      <td>Bloodworms</td>\n",
       "      <td>Addison</td>\n",
       "      <td>Washington</td>\n",
       "      <td>Live Pounds</td>\n",
       "      <td>18934.19</td>\n",
       "      <td>208982.04</td>\n",
       "      <td>145</td>\n",
       "      <td>11.037284</td>\n",
       "    </tr>\n",
       "    <tr>\n",
       "      <th>1</th>\n",
       "      <td>1</td>\n",
       "      <td>2008</td>\n",
       "      <td>Bloodworms</td>\n",
       "      <td>Bar Harbor</td>\n",
       "      <td>Hancock</td>\n",
       "      <td>Live Pounds</td>\n",
       "      <td>1396.62</td>\n",
       "      <td>15276.99</td>\n",
       "      <td>31</td>\n",
       "      <td>10.938544</td>\n",
       "    </tr>\n",
       "    <tr>\n",
       "      <th>2</th>\n",
       "      <td>2</td>\n",
       "      <td>2008</td>\n",
       "      <td>Bloodworms</td>\n",
       "      <td>Bass Harbor</td>\n",
       "      <td>Hancock</td>\n",
       "      <td>Live Pounds</td>\n",
       "      <td>42.09</td>\n",
       "      <td>448.58</td>\n",
       "      <td>3</td>\n",
       "      <td>10.657638</td>\n",
       "    </tr>\n",
       "    <tr>\n",
       "      <th>3</th>\n",
       "      <td>3</td>\n",
       "      <td>2008</td>\n",
       "      <td>Bloodworms</td>\n",
       "      <td>Bath</td>\n",
       "      <td>Sagadahoc</td>\n",
       "      <td>Live Pounds</td>\n",
       "      <td>9408.14</td>\n",
       "      <td>101804.90</td>\n",
       "      <td>60</td>\n",
       "      <td>10.820938</td>\n",
       "    </tr>\n",
       "    <tr>\n",
       "      <th>4</th>\n",
       "      <td>4</td>\n",
       "      <td>2008</td>\n",
       "      <td>Bloodworms</td>\n",
       "      <td>Beals</td>\n",
       "      <td>Washington</td>\n",
       "      <td>Live Pounds</td>\n",
       "      <td>1760.18</td>\n",
       "      <td>18989.88</td>\n",
       "      <td>75</td>\n",
       "      <td>10.788601</td>\n",
       "    </tr>\n",
       "    <tr>\n",
       "      <th>...</th>\n",
       "      <td>...</td>\n",
       "      <td>...</td>\n",
       "      <td>...</td>\n",
       "      <td>...</td>\n",
       "      <td>...</td>\n",
       "      <td>...</td>\n",
       "      <td>...</td>\n",
       "      <td>...</td>\n",
       "      <td>...</td>\n",
       "      <td>...</td>\n",
       "    </tr>\n",
       "    <tr>\n",
       "      <th>4884</th>\n",
       "      <td>4884</td>\n",
       "      <td>2022</td>\n",
       "      <td>Tuna Atlantic Bluefin</td>\n",
       "      <td>South Bristol</td>\n",
       "      <td>Lincoln</td>\n",
       "      <td>Live Pounds</td>\n",
       "      <td>11543.13</td>\n",
       "      <td>57104.75</td>\n",
       "      <td>9</td>\n",
       "      <td>4.947077</td>\n",
       "    </tr>\n",
       "    <tr>\n",
       "      <th>4885</th>\n",
       "      <td>4885</td>\n",
       "      <td>2022</td>\n",
       "      <td>Tuna Atlantic Bluefin</td>\n",
       "      <td>Tenants Harbor</td>\n",
       "      <td>Knox</td>\n",
       "      <td>Live Pounds</td>\n",
       "      <td>7456.25</td>\n",
       "      <td>31216.52</td>\n",
       "      <td>3</td>\n",
       "      <td>4.186625</td>\n",
       "    </tr>\n",
       "    <tr>\n",
       "      <th>4886</th>\n",
       "      <td>4886</td>\n",
       "      <td>2022</td>\n",
       "      <td>Tuna Atlantic Bluefin</td>\n",
       "      <td>Wells</td>\n",
       "      <td>York</td>\n",
       "      <td>Live Pounds</td>\n",
       "      <td>14450.25</td>\n",
       "      <td>67219.96</td>\n",
       "      <td>10</td>\n",
       "      <td>4.651820</td>\n",
       "    </tr>\n",
       "    <tr>\n",
       "      <th>4887</th>\n",
       "      <td>4887</td>\n",
       "      <td>2022</td>\n",
       "      <td>Unidentified Catch</td>\n",
       "      <td>Other Maine</td>\n",
       "      <td>Not-Specified</td>\n",
       "      <td>Live Pounds</td>\n",
       "      <td>31154845.48</td>\n",
       "      <td>91045138.28</td>\n",
       "      <td>47</td>\n",
       "      <td>2.922343</td>\n",
       "    </tr>\n",
       "    <tr>\n",
       "      <th>4888</th>\n",
       "      <td>4888</td>\n",
       "      <td>2022</td>\n",
       "      <td>Whelk Waved</td>\n",
       "      <td>Other Maine</td>\n",
       "      <td>Not-Specified</td>\n",
       "      <td>Live Pounds</td>\n",
       "      <td>2421.00</td>\n",
       "      <td>4064.50</td>\n",
       "      <td>16</td>\n",
       "      <td>1.678852</td>\n",
       "    </tr>\n",
       "  </tbody>\n",
       "</table>\n",
       "<p>4364 rows × 10 columns</p>\n",
       "</div>"
      ],
      "text/plain": [
       "      Unnamed: 0  year                species            port         county  \\\n",
       "0              0  2008             Bloodworms         Addison     Washington   \n",
       "1              1  2008             Bloodworms      Bar Harbor        Hancock   \n",
       "2              2  2008             Bloodworms     Bass Harbor        Hancock   \n",
       "3              3  2008             Bloodworms            Bath      Sagadahoc   \n",
       "4              4  2008             Bloodworms           Beals     Washington   \n",
       "...          ...   ...                    ...             ...            ...   \n",
       "4884        4884  2022  Tuna Atlantic Bluefin   South Bristol        Lincoln   \n",
       "4885        4885  2022  Tuna Atlantic Bluefin  Tenants Harbor           Knox   \n",
       "4886        4886  2022  Tuna Atlantic Bluefin           Wells           York   \n",
       "4887        4887  2022     Unidentified Catch     Other Maine  Not-Specified   \n",
       "4888        4888  2022            Whelk Waved     Other Maine  Not-Specified   \n",
       "\n",
       "      weight_type       weight        value  number_harvesters  price_per_lb  \n",
       "0     Live Pounds     18934.19    208982.04                145     11.037284  \n",
       "1     Live Pounds      1396.62     15276.99                 31     10.938544  \n",
       "2     Live Pounds        42.09       448.58                  3     10.657638  \n",
       "3     Live Pounds      9408.14    101804.90                 60     10.820938  \n",
       "4     Live Pounds      1760.18     18989.88                 75     10.788601  \n",
       "...           ...          ...          ...                ...           ...  \n",
       "4884  Live Pounds     11543.13     57104.75                  9      4.947077  \n",
       "4885  Live Pounds      7456.25     31216.52                  3      4.186625  \n",
       "4886  Live Pounds     14450.25     67219.96                 10      4.651820  \n",
       "4887  Live Pounds  31154845.48  91045138.28                 47      2.922343  \n",
       "4888  Live Pounds      2421.00      4064.50                 16      1.678852  \n",
       "\n",
       "[4364 rows x 10 columns]"
      ]
     },
     "execution_count": 11,
     "metadata": {},
     "output_type": "execute_result"
    }
   ],
   "source": [
    "df_no_elver"
   ]
  },
  {
   "cell_type": "code",
   "execution_count": 12,
   "id": "735c7954",
   "metadata": {},
   "outputs": [
    {
     "name": "stderr",
     "output_type": "stream",
     "text": [
      "/var/folders/h2/jmnpmtkj7wl_jwjm4dq4g_gr0000gn/T/ipykernel_58733/2345816772.py:2: UserWarning: \n",
      "\n",
      "`distplot` is a deprecated function and will be removed in seaborn v0.14.0.\n",
      "\n",
      "Please adapt your code to use either `displot` (a figure-level function with\n",
      "similar flexibility) or `histplot` (an axes-level function for histograms).\n",
      "\n",
      "For a guide to updating your code to use the new functions, please see\n",
      "https://gist.github.com/mwaskom/de44147ed2974457ad6372750bbe5751\n",
      "\n",
      "  sns.distplot(df_no_elver['price_per_lb'], bins=35)\n"
     ]
    },
    {
     "data": {
      "text/plain": [
       "<Axes: xlabel='price_per_lb', ylabel='Density'>"
      ]
     },
     "execution_count": 12,
     "metadata": {},
     "output_type": "execute_result"
    },
    {
     "data": {
      "image/png": "[encoded data removed]",
      "text/plain": [
       "<Figure size 640x480 with 1 Axes>"
      ]
     },
     "metadata": {},
     "output_type": "display_data"
    }
   ],
   "source": [
    "# histogram excluding elver\n",
    "sns.distplot(df_no_elver['price_per_lb'], bins=35)"
   ]
  },
  {
   "cell_type": "markdown",
   "id": "982c0594",
   "metadata": {},
   "source": [
    "Price per pound doesn't seem to have any extreme values"
   ]
  },
  {
   "cell_type": "markdown",
   "id": "07e9db57",
   "metadata": {},
   "source": [
    "## Data prep for regression analysis"
   ]
  },
  {
   "cell_type": "markdown",
   "id": "fd3ad0d3",
   "metadata": {},
   "source": [
    "Hypothesis: As the total weight of lobster harvested increases, the price per pound will decrease. "
   ]
  },
  {
   "cell_type": "code",
   "execution_count": 13,
   "id": "82eb2add",
   "metadata": {},
   "outputs": [],
   "source": [
    "# create a lobster data frame\n",
    "lobster = df[df['species'] == 'Lobster American']"
   ]
  },
  {
   "cell_type": "code",
   "execution_count": 14,
   "id": "922bf9cb",
   "metadata": {},
   "outputs": [
    {
     "data": {
      "text/html": [
       "<div>\n",
       "<style scoped>\n",
       "    .dataframe tbody tr th:only-of-type {\n",
       "        vertical-align: middle;\n",
       "    }\n",
       "\n",
       "    .dataframe tbody tr th {\n",
       "        vertical-align: top;\n",
       "    }\n",
       "\n",
       "    .dataframe thead th {\n",
       "        text-align: right;\n",
       "    }\n",
       "</style>\n",
       "<table border=\"1\" class=\"dataframe\">\n",
       "  <thead>\n",
       "    <tr style=\"text-align: right;\">\n",
       "      <th></th>\n",
       "      <th>Unnamed: 0</th>\n",
       "      <th>year</th>\n",
       "      <th>species</th>\n",
       "      <th>port</th>\n",
       "      <th>county</th>\n",
       "      <th>weight_type</th>\n",
       "      <th>weight</th>\n",
       "      <th>value</th>\n",
       "      <th>number_harvesters</th>\n",
       "      <th>price_per_lb</th>\n",
       "    </tr>\n",
       "  </thead>\n",
       "  <tbody>\n",
       "    <tr>\n",
       "      <th>182</th>\n",
       "      <td>182</td>\n",
       "      <td>2008</td>\n",
       "      <td>Lobster American</td>\n",
       "      <td>Addison</td>\n",
       "      <td>Washington</td>\n",
       "      <td>Live Pounds</td>\n",
       "      <td>874072.35</td>\n",
       "      <td>2.811849e+06</td>\n",
       "      <td>80</td>\n",
       "      <td>3.216952</td>\n",
       "    </tr>\n",
       "    <tr>\n",
       "      <th>183</th>\n",
       "      <td>183</td>\n",
       "      <td>2008</td>\n",
       "      <td>Lobster American</td>\n",
       "      <td>Bailey Island</td>\n",
       "      <td>Cumberland</td>\n",
       "      <td>Live Pounds</td>\n",
       "      <td>1300961.05</td>\n",
       "      <td>4.380685e+06</td>\n",
       "      <td>100</td>\n",
       "      <td>3.367269</td>\n",
       "    </tr>\n",
       "    <tr>\n",
       "      <th>184</th>\n",
       "      <td>184</td>\n",
       "      <td>2008</td>\n",
       "      <td>Lobster American</td>\n",
       "      <td>Bar Harbor</td>\n",
       "      <td>Hancock</td>\n",
       "      <td>Live Pounds</td>\n",
       "      <td>749213.48</td>\n",
       "      <td>2.761140e+06</td>\n",
       "      <td>71</td>\n",
       "      <td>3.685385</td>\n",
       "    </tr>\n",
       "    <tr>\n",
       "      <th>185</th>\n",
       "      <td>185</td>\n",
       "      <td>2008</td>\n",
       "      <td>Lobster American</td>\n",
       "      <td>Bass Harbor</td>\n",
       "      <td>Hancock</td>\n",
       "      <td>Live Pounds</td>\n",
       "      <td>860515.00</td>\n",
       "      <td>3.237509e+06</td>\n",
       "      <td>89</td>\n",
       "      <td>3.762292</td>\n",
       "    </tr>\n",
       "    <tr>\n",
       "      <th>186</th>\n",
       "      <td>186</td>\n",
       "      <td>2008</td>\n",
       "      <td>Lobster American</td>\n",
       "      <td>Beals</td>\n",
       "      <td>Washington</td>\n",
       "      <td>Live Pounds</td>\n",
       "      <td>1463538.05</td>\n",
       "      <td>4.777284e+06</td>\n",
       "      <td>173</td>\n",
       "      <td>3.264202</td>\n",
       "    </tr>\n",
       "    <tr>\n",
       "      <th>...</th>\n",
       "      <td>...</td>\n",
       "      <td>...</td>\n",
       "      <td>...</td>\n",
       "      <td>...</td>\n",
       "      <td>...</td>\n",
       "      <td>...</td>\n",
       "      <td>...</td>\n",
       "      <td>...</td>\n",
       "      <td>...</td>\n",
       "      <td>...</td>\n",
       "    </tr>\n",
       "    <tr>\n",
       "      <th>4749</th>\n",
       "      <td>4749</td>\n",
       "      <td>2022</td>\n",
       "      <td>Lobster American</td>\n",
       "      <td>Trenton</td>\n",
       "      <td>Hancock</td>\n",
       "      <td>Live Pounds</td>\n",
       "      <td>223031.45</td>\n",
       "      <td>9.568708e+05</td>\n",
       "      <td>17</td>\n",
       "      <td>4.290295</td>\n",
       "    </tr>\n",
       "    <tr>\n",
       "      <th>4750</th>\n",
       "      <td>4750</td>\n",
       "      <td>2022</td>\n",
       "      <td>Lobster American</td>\n",
       "      <td>Vinalhaven</td>\n",
       "      <td>Knox</td>\n",
       "      <td>Live Pounds</td>\n",
       "      <td>6960663.70</td>\n",
       "      <td>3.023618e+07</td>\n",
       "      <td>188</td>\n",
       "      <td>4.343864</td>\n",
       "    </tr>\n",
       "    <tr>\n",
       "      <th>4751</th>\n",
       "      <td>4751</td>\n",
       "      <td>2022</td>\n",
       "      <td>Lobster American</td>\n",
       "      <td>Wells</td>\n",
       "      <td>York</td>\n",
       "      <td>Live Pounds</td>\n",
       "      <td>24907.00</td>\n",
       "      <td>1.156994e+05</td>\n",
       "      <td>6</td>\n",
       "      <td>4.645256</td>\n",
       "    </tr>\n",
       "    <tr>\n",
       "      <th>4752</th>\n",
       "      <td>4752</td>\n",
       "      <td>2022</td>\n",
       "      <td>Lobster American</td>\n",
       "      <td>Winter Harbor</td>\n",
       "      <td>Hancock</td>\n",
       "      <td>Live Pounds</td>\n",
       "      <td>1818154.05</td>\n",
       "      <td>6.541451e+06</td>\n",
       "      <td>57</td>\n",
       "      <td>3.597853</td>\n",
       "    </tr>\n",
       "    <tr>\n",
       "      <th>4753</th>\n",
       "      <td>4753</td>\n",
       "      <td>2022</td>\n",
       "      <td>Lobster American</td>\n",
       "      <td>York</td>\n",
       "      <td>York</td>\n",
       "      <td>Live Pounds</td>\n",
       "      <td>940215.45</td>\n",
       "      <td>4.266021e+06</td>\n",
       "      <td>25</td>\n",
       "      <td>4.537280</td>\n",
       "    </tr>\n",
       "  </tbody>\n",
       "</table>\n",
       "<p>1114 rows × 10 columns</p>\n",
       "</div>"
      ],
      "text/plain": [
       "      Unnamed: 0  year           species           port      county  \\\n",
       "182          182  2008  Lobster American        Addison  Washington   \n",
       "183          183  2008  Lobster American  Bailey Island  Cumberland   \n",
       "184          184  2008  Lobster American     Bar Harbor     Hancock   \n",
       "185          185  2008  Lobster American    Bass Harbor     Hancock   \n",
       "186          186  2008  Lobster American          Beals  Washington   \n",
       "...          ...   ...               ...            ...         ...   \n",
       "4749        4749  2022  Lobster American        Trenton     Hancock   \n",
       "4750        4750  2022  Lobster American     Vinalhaven        Knox   \n",
       "4751        4751  2022  Lobster American          Wells        York   \n",
       "4752        4752  2022  Lobster American  Winter Harbor     Hancock   \n",
       "4753        4753  2022  Lobster American           York        York   \n",
       "\n",
       "      weight_type      weight         value  number_harvesters  price_per_lb  \n",
       "182   Live Pounds   874072.35  2.811849e+06                 80      3.216952  \n",
       "183   Live Pounds  1300961.05  4.380685e+06                100      3.367269  \n",
       "184   Live Pounds   749213.48  2.761140e+06                 71      3.685385  \n",
       "185   Live Pounds   860515.00  3.237509e+06                 89      3.762292  \n",
       "186   Live Pounds  1463538.05  4.777284e+06                173      3.264202  \n",
       "...           ...         ...           ...                ...           ...  \n",
       "4749  Live Pounds   223031.45  9.568708e+05                 17      4.290295  \n",
       "4750  Live Pounds  6960663.70  3.023618e+07                188      4.343864  \n",
       "4751  Live Pounds    24907.00  1.156994e+05                  6      4.645256  \n",
       "4752  Live Pounds  1818154.05  6.541451e+06                 57      3.597853  \n",
       "4753  Live Pounds   940215.45  4.266021e+06                 25      4.537280  \n",
       "\n",
       "[1114 rows x 10 columns]"
      ]
     },
     "execution_count": 14,
     "metadata": {},
     "output_type": "execute_result"
    }
   ],
   "source": [
    "lobster"
   ]
  },
  {
   "cell_type": "code",
   "execution_count": 15,
   "id": "150b3aec",
   "metadata": {},
   "outputs": [
    {
     "data": {
      "image/png": "[encoded data removed]",
      "text/plain": [
       "<Figure size 640x480 with 1 Axes>"
      ]
     },
     "metadata": {},
     "output_type": "display_data"
    }
   ],
   "source": [
    "# Create a scatterplot using matplotlib for another look at how the chosen variables plot against each other.\n",
    "\n",
    "lobster.plot(x = 'weight', y='price_per_lb',style='o') # The style option creates a scatterplot; without it, we only have lines.\n",
    "plt.title('Lobster weight harvested vs price per pound')  \n",
    "plt.xlabel('total weight harvested')  \n",
    "plt.ylabel('price_per_lb')  \n",
    "plt.show()"
   ]
  },
  {
   "cell_type": "code",
   "execution_count": 16,
   "id": "83a08a92",
   "metadata": {},
   "outputs": [],
   "source": [
    "# Reshape the variables into NumPy arrays and put them into separate objects.\n",
    "\n",
    "X = lobster['weight'].values.reshape(-1,1)\n",
    "y = lobster['price_per_lb'].values.reshape(-1,1)"
   ]
  },
  {
   "cell_type": "code",
   "execution_count": 17,
   "id": "38e0e2be",
   "metadata": {},
   "outputs": [
    {
     "data": {
      "text/plain": [
       "array([[ 874072.35],\n",
       "       [1300961.05],\n",
       "       [ 749213.48],\n",
       "       ...,\n",
       "       [  24907.  ],\n",
       "       [1818154.05],\n",
       "       [ 940215.45]])"
      ]
     },
     "execution_count": 17,
     "metadata": {},
     "output_type": "execute_result"
    }
   ],
   "source": [
    "X"
   ]
  },
  {
   "cell_type": "code",
   "execution_count": 18,
   "id": "a71e834a",
   "metadata": {},
   "outputs": [
    {
     "data": {
      "text/plain": [
       "array([[3.21695192],\n",
       "       [3.36726875],\n",
       "       [3.68538497],\n",
       "       ...,\n",
       "       [4.64525635],\n",
       "       [3.59785325],\n",
       "       [4.53728031]])"
      ]
     },
     "execution_count": 18,
     "metadata": {},
     "output_type": "execute_result"
    }
   ],
   "source": [
    "y"
   ]
  },
  {
   "cell_type": "code",
   "execution_count": 19,
   "id": "f64d1811",
   "metadata": {},
   "outputs": [],
   "source": [
    "# Split data into a training set and a test set.\n",
    "\n",
    "X_train, X_test, y_train, y_test = train_test_split(X, y, test_size=0.3, random_state=0)"
   ]
  },
  {
   "cell_type": "markdown",
   "id": "ed693851",
   "metadata": {},
   "source": [
    "## Regression analysis"
   ]
  },
  {
   "cell_type": "code",
   "execution_count": 20,
   "id": "888123d8",
   "metadata": {},
   "outputs": [],
   "source": [
    "# Create a regression object.\n",
    "\n",
    "regression = LinearRegression()  # This is the regression object, which will be fit onto the training set."
   ]
  },
  {
   "cell_type": "code",
   "execution_count": 21,
   "id": "943e08d5",
   "metadata": {},
   "outputs": [
    {
     "data": {
      "text/html": [
       "<style>#sk-container-id-1 {color: black;}#sk-container-id-1 pre{padding: 0;}#sk-container-id-1 div.sk-toggleable {background-color: white;}#sk-container-id-1 label.sk-toggleable__label {cursor: pointer;display: block;width: 100%;margin-bottom: 0;padding: 0.3em;box-sizing: border-box;text-align: center;}#sk-container-id-1 label.sk-toggleable__label-arrow:before {content: \"▸\";float: left;margin-right: 0.25em;color: #696969;}#sk-container-id-1 label.sk-toggleable__label-arrow:hover:before {color: black;}#sk-container-id-1 div.sk-estimator:hover label.sk-toggleable__label-arrow:before {color: black;}#sk-container-id-1 div.sk-toggleable__content {max-height: 0;max-width: 0;overflow: hidden;text-align: left;background-color: #f0f8ff;}#sk-container-id-1 div.sk-toggleable__content pre {margin: 0.2em;color: black;border-radius: 0.25em;background-color: #f0f8ff;}#sk-container-id-1 input.sk-toggleable__control:checked~div.sk-toggleable__content {max-height: 200px;max-width: 100%;overflow: auto;}#sk-container-id-1 input.sk-toggleable__control:checked~label.sk-toggleable__label-arrow:before {content: \"▾\";}#sk-container-id-1 div.sk-estimator input.sk-toggleable__control:checked~label.sk-toggleable__label {background-color: #d4ebff;}#sk-container-id-1 div.sk-label input.sk-toggleable__control:checked~label.sk-toggleable__label {background-color: #d4ebff;}#sk-container-id-1 input.sk-hidden--visually {border: 0;clip: rect(1px 1px 1px 1px);clip: rect(1px, 1px, 1px, 1px);height: 1px;margin: -1px;overflow: hidden;padding: 0;position: absolute;width: 1px;}#sk-container-id-1 div.sk-estimator {font-family: monospace;background-color: #f0f8ff;border: 1px dotted black;border-radius: 0.25em;box-sizing: border-box;margin-bottom: 0.5em;}#sk-container-id-1 div.sk-estimator:hover {background-color: #d4ebff;}#sk-container-id-1 div.sk-parallel-item::after {content: \"\";width: 100%;border-bottom: 1px solid gray;flex-grow: 1;}#sk-container-id-1 div.sk-label:hover label.sk-toggleable__label {background-color: #d4ebff;}#sk-container-id-1 div.sk-serial::before {content: \"\";position: absolute;border-left: 1px solid gray;box-sizing: border-box;top: 0;bottom: 0;left: 50%;z-index: 0;}#sk-container-id-1 div.sk-serial {display: flex;flex-direction: column;align-items: center;background-color: white;padding-right: 0.2em;padding-left: 0.2em;position: relative;}#sk-container-id-1 div.sk-item {position: relative;z-index: 1;}#sk-container-id-1 div.sk-parallel {display: flex;align-items: stretch;justify-content: center;background-color: white;position: relative;}#sk-container-id-1 div.sk-item::before, #sk-container-id-1 div.sk-parallel-item::before {content: \"\";position: absolute;border-left: 1px solid gray;box-sizing: border-box;top: 0;bottom: 0;left: 50%;z-index: -1;}#sk-container-id-1 div.sk-parallel-item {display: flex;flex-direction: column;z-index: 1;position: relative;background-color: white;}#sk-container-id-1 div.sk-parallel-item:first-child::after {align-self: flex-end;width: 50%;}#sk-container-id-1 div.sk-parallel-item:last-child::after {align-self: flex-start;width: 50%;}#sk-container-id-1 div.sk-parallel-item:only-child::after {width: 0;}#sk-container-id-1 div.sk-dashed-wrapped {border: 1px dashed gray;margin: 0 0.4em 0.5em 0.4em;box-sizing: border-box;padding-bottom: 0.4em;background-color: white;}#sk-container-id-1 div.sk-label label {font-family: monospace;font-weight: bold;display: inline-block;line-height: 1.2em;}#sk-container-id-1 div.sk-label-container {text-align: center;}#sk-container-id-1 div.sk-container {/* jupyter's `normalize.less` sets `[hidden] { display: none; }` but bootstrap.min.css set `[hidden] { display: none !important; }` so we also need the `!important` here to be able to override the default hidden behavior on the sphinx rendered scikit-learn.org. See: https://github.com/scikit-learn/scikit-learn/issues/21755 */display: inline-block !important;position: relative;}#sk-container-id-1 div.sk-text-repr-fallback {display: none;}</style><div id=\"sk-container-id-1\" class=\"sk-top-container\"><div class=\"sk-text-repr-fallback\"><pre>LinearRegression()</pre><b>In a Jupyter environment, please rerun this cell to show the HTML representation or trust the notebook. <br />On GitHub, the HTML representation is unable to render, please try loading this page with nbviewer.org.</b></div><div class=\"sk-container\" hidden><div class=\"sk-item\"><div class=\"sk-estimator sk-toggleable\"><input class=\"sk-toggleable__control sk-hidden--visually\" id=\"sk-estimator-id-1\" type=\"checkbox\" checked><label for=\"sk-estimator-id-1\" class=\"sk-toggleable__label sk-toggleable__label-arrow\">LinearRegression</label><div class=\"sk-toggleable__content\"><pre>LinearRegression()</pre></div></div></div></div></div>"
      ],
      "text/plain": [
       "LinearRegression()"
      ]
     },
     "execution_count": 21,
     "metadata": {},
     "output_type": "execute_result"
    }
   ],
   "source": [
    "# Fit the regression object onto the training set.\n",
    "\n",
    "regression.fit(X_train, y_train)"
   ]
  },
  {
   "cell_type": "code",
   "execution_count": 22,
   "id": "13b3a896",
   "metadata": {},
   "outputs": [],
   "source": [
    "# Predict the values of y using X.\n",
    "\n",
    "y_predicted = regression.predict(X_test)"
   ]
  },
  {
   "cell_type": "code",
   "execution_count": 23,
   "id": "9d4b2e2b",
   "metadata": {},
   "outputs": [
    {
     "data": {
      "image/png": "[encoded data removed]",
      "text/plain": [
       "<Figure size 640x480 with 1 Axes>"
      ]
     },
     "metadata": {},
     "output_type": "display_data"
    }
   ],
   "source": [
    "# Create a plot that shows the regression line from the model on the test set.\n",
    "\n",
    "plot_test = plt\n",
    "plot_test.scatter(X_test, y_test, color='gray', s = 15)\n",
    "plot_test.plot(X_test, y_predicted, color='red', linewidth =3)\n",
    "plot_test.title('Lobster weight harvested vs price per pound (Test set)')\n",
    "plot_test.xlabel('Total weight harvested')\n",
    "plot_test.ylabel('Price per pound')\n",
    "plot_test.show()"
   ]
  },
  {
   "cell_type": "code",
   "execution_count": 24,
   "id": "49145cf7",
   "metadata": {},
   "outputs": [],
   "source": [
    "# Create objects that contain the model summary statistics.\n",
    "\n",
    "rmse = mean_squared_error(y_test, y_predicted) # This is the mean squared error\n",
    "r2 = r2_score(y_test, y_predicted) # This is the R2 score. "
   ]
  },
  {
   "cell_type": "code",
   "execution_count": 25,
   "id": "a238f569",
   "metadata": {},
   "outputs": [
    {
     "name": "stdout",
     "output_type": "stream",
     "text": [
      "Slope: [[-2.81554314e-08]]\n",
      "Mean squared error:  1.1628667624262692\n",
      "R2 score:  -0.003215608821445004\n"
     ]
    }
   ],
   "source": [
    "# Print the model summary statistics. This is where you evaluate the performance of the model.\n",
    "\n",
    "print('Slope:' ,regression.coef_)\n",
    "print('Mean squared error: ', rmse)\n",
    "print('R2 score: ', r2)"
   ]
  },
  {
   "cell_type": "code",
   "execution_count": 26,
   "id": "af20d42a",
   "metadata": {},
   "outputs": [
    {
     "data": {
      "text/html": [
       "<div>\n",
       "<style scoped>\n",
       "    .dataframe tbody tr th:only-of-type {\n",
       "        vertical-align: middle;\n",
       "    }\n",
       "\n",
       "    .dataframe tbody tr th {\n",
       "        vertical-align: top;\n",
       "    }\n",
       "\n",
       "    .dataframe thead th {\n",
       "        text-align: right;\n",
       "    }\n",
       "</style>\n",
       "<table border=\"1\" class=\"dataframe\">\n",
       "  <thead>\n",
       "    <tr style=\"text-align: right;\">\n",
       "      <th></th>\n",
       "      <th>Actual</th>\n",
       "      <th>Predicted</th>\n",
       "    </tr>\n",
       "  </thead>\n",
       "  <tbody>\n",
       "    <tr>\n",
       "      <th>0</th>\n",
       "      <td>6.915288</td>\n",
       "      <td>3.932220</td>\n",
       "    </tr>\n",
       "    <tr>\n",
       "      <th>1</th>\n",
       "      <td>4.290295</td>\n",
       "      <td>3.988488</td>\n",
       "    </tr>\n",
       "    <tr>\n",
       "      <th>2</th>\n",
       "      <td>3.392232</td>\n",
       "      <td>3.994570</td>\n",
       "    </tr>\n",
       "    <tr>\n",
       "      <th>3</th>\n",
       "      <td>5.230470</td>\n",
       "      <td>3.978516</td>\n",
       "    </tr>\n",
       "    <tr>\n",
       "      <th>4</th>\n",
       "      <td>3.093506</td>\n",
       "      <td>3.959788</td>\n",
       "    </tr>\n",
       "    <tr>\n",
       "      <th>5</th>\n",
       "      <td>4.172252</td>\n",
       "      <td>3.988056</td>\n",
       "    </tr>\n",
       "    <tr>\n",
       "      <th>6</th>\n",
       "      <td>4.887525</td>\n",
       "      <td>3.993989</td>\n",
       "    </tr>\n",
       "    <tr>\n",
       "      <th>7</th>\n",
       "      <td>4.375754</td>\n",
       "      <td>3.915824</td>\n",
       "    </tr>\n",
       "    <tr>\n",
       "      <th>8</th>\n",
       "      <td>3.882790</td>\n",
       "      <td>3.987047</td>\n",
       "    </tr>\n",
       "    <tr>\n",
       "      <th>9</th>\n",
       "      <td>2.972738</td>\n",
       "      <td>3.924035</td>\n",
       "    </tr>\n",
       "    <tr>\n",
       "      <th>10</th>\n",
       "      <td>3.211188</td>\n",
       "      <td>3.992151</td>\n",
       "    </tr>\n",
       "    <tr>\n",
       "      <th>11</th>\n",
       "      <td>3.300658</td>\n",
       "      <td>3.983124</td>\n",
       "    </tr>\n",
       "    <tr>\n",
       "      <th>12</th>\n",
       "      <td>3.185863</td>\n",
       "      <td>3.829591</td>\n",
       "    </tr>\n",
       "    <tr>\n",
       "      <th>13</th>\n",
       "      <td>4.455688</td>\n",
       "      <td>3.986961</td>\n",
       "    </tr>\n",
       "    <tr>\n",
       "      <th>14</th>\n",
       "      <td>2.634190</td>\n",
       "      <td>3.989843</td>\n",
       "    </tr>\n",
       "    <tr>\n",
       "      <th>15</th>\n",
       "      <td>4.293369</td>\n",
       "      <td>3.992902</td>\n",
       "    </tr>\n",
       "    <tr>\n",
       "      <th>16</th>\n",
       "      <td>3.655511</td>\n",
       "      <td>3.974161</td>\n",
       "    </tr>\n",
       "    <tr>\n",
       "      <th>17</th>\n",
       "      <td>4.196387</td>\n",
       "      <td>3.924432</td>\n",
       "    </tr>\n",
       "    <tr>\n",
       "      <th>18</th>\n",
       "      <td>2.227269</td>\n",
       "      <td>3.889533</td>\n",
       "    </tr>\n",
       "    <tr>\n",
       "      <th>19</th>\n",
       "      <td>3.918641</td>\n",
       "      <td>3.990864</td>\n",
       "    </tr>\n",
       "    <tr>\n",
       "      <th>20</th>\n",
       "      <td>3.423978</td>\n",
       "      <td>3.972163</td>\n",
       "    </tr>\n",
       "    <tr>\n",
       "      <th>21</th>\n",
       "      <td>3.131649</td>\n",
       "      <td>3.952624</td>\n",
       "    </tr>\n",
       "    <tr>\n",
       "      <th>22</th>\n",
       "      <td>3.953452</td>\n",
       "      <td>3.943581</td>\n",
       "    </tr>\n",
       "    <tr>\n",
       "      <th>23</th>\n",
       "      <td>4.070145</td>\n",
       "      <td>3.966396</td>\n",
       "    </tr>\n",
       "    <tr>\n",
       "      <th>24</th>\n",
       "      <td>2.978286</td>\n",
       "      <td>3.993200</td>\n",
       "    </tr>\n",
       "    <tr>\n",
       "      <th>25</th>\n",
       "      <td>4.400550</td>\n",
       "      <td>3.962620</td>\n",
       "    </tr>\n",
       "    <tr>\n",
       "      <th>26</th>\n",
       "      <td>4.756259</td>\n",
       "      <td>3.992825</td>\n",
       "    </tr>\n",
       "    <tr>\n",
       "      <th>27</th>\n",
       "      <td>4.693776</td>\n",
       "      <td>3.853239</td>\n",
       "    </tr>\n",
       "    <tr>\n",
       "      <th>28</th>\n",
       "      <td>5.309665</td>\n",
       "      <td>3.984010</td>\n",
       "    </tr>\n",
       "    <tr>\n",
       "      <th>29</th>\n",
       "      <td>3.395286</td>\n",
       "      <td>3.959494</td>\n",
       "    </tr>\n",
       "  </tbody>\n",
       "</table>\n",
       "</div>"
      ],
      "text/plain": [
       "      Actual  Predicted\n",
       "0   6.915288   3.932220\n",
       "1   4.290295   3.988488\n",
       "2   3.392232   3.994570\n",
       "3   5.230470   3.978516\n",
       "4   3.093506   3.959788\n",
       "5   4.172252   3.988056\n",
       "6   4.887525   3.993989\n",
       "7   4.375754   3.915824\n",
       "8   3.882790   3.987047\n",
       "9   2.972738   3.924035\n",
       "10  3.211188   3.992151\n",
       "11  3.300658   3.983124\n",
       "12  3.185863   3.829591\n",
       "13  4.455688   3.986961\n",
       "14  2.634190   3.989843\n",
       "15  4.293369   3.992902\n",
       "16  3.655511   3.974161\n",
       "17  4.196387   3.924432\n",
       "18  2.227269   3.889533\n",
       "19  3.918641   3.990864\n",
       "20  3.423978   3.972163\n",
       "21  3.131649   3.952624\n",
       "22  3.953452   3.943581\n",
       "23  4.070145   3.966396\n",
       "24  2.978286   3.993200\n",
       "25  4.400550   3.962620\n",
       "26  4.756259   3.992825\n",
       "27  4.693776   3.853239\n",
       "28  5.309665   3.984010\n",
       "29  3.395286   3.959494"
      ]
     },
     "execution_count": 26,
     "metadata": {},
     "output_type": "execute_result"
    }
   ],
   "source": [
    "# Create a dataframe comparing the actual and predicted values of y.\n",
    "\n",
    "data = pd.DataFrame({'Actual': y_test.flatten(), 'Predicted': y_predicted.flatten()})\n",
    "data.head(30)"
   ]
  },
  {
   "cell_type": "markdown",
   "id": "ac40d8e5",
   "metadata": {},
   "source": [
    "## Conclusion"
   ]
  },
  {
   "cell_type": "markdown",
   "id": "2b0ef2fa",
   "metadata": {},
   "source": [
    "Based on the variability of data points along the regression line and the model summary statistics, this model didn't perform well. It has a very low r2 value, and the mean squared error is relatively high for the small spread in y-values. While total amount harvested is likely a factor to the price per pound of lobster, it isn't the only factor. Influences like demand from many different markets (both local and international) have a huge impact on price. Especially when the total amount harvested is relatively low, it doesn't seem to influence price per pound at all (hence the wide disparity in price for lower harvest amounts). "
   ]
  },
  {
   "cell_type": "code",
   "execution_count": 27,
   "id": "4ae05461",
   "metadata": {},
   "outputs": [],
   "source": [
    "# exporting clean data frame\n",
    "df.to_csv(os.path.join(path, '02 Data','Prepared Data', 'landings_clean.csv'))"
   ]
  },
  {
   "cell_type": "code",
   "execution_count": 28,
   "id": "20cdd417",
   "metadata": {},
   "outputs": [],
   "source": [
    "# exporting lobster data frame\n",
    "lobster.to_csv(os.path.join(path, '02 Data','Prepared Data', 'lobster_clean.csv'))"
   ]
  },
  {
   "cell_type": "code",
   "execution_count": null,
   "id": "7a2669f3",
   "metadata": {},
   "outputs": [],
   "source": []
  }
 ],
 "metadata": {
  "kernelspec": {
   "display_name": "Python 3 (ipykernel)",
   "language": "python",
   "name": "python3"
  },
  "language_info": {
   "codemirror_mode": {
    "name": "ipython",
    "version": 3
   },
   "file_extension": ".py",
   "mimetype": "text/x-python",
   "name": "python",
   "nbconvert_exporter": "python",
   "pygments_lexer": "ipython3",
   "version": "3.11.4"
  }
 },
 "nbformat": 4,
 "nbformat_minor": 5
}
